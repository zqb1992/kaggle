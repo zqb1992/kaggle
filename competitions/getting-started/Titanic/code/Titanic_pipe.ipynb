{
 "cells": [
  {
   "cell_type": "markdown",
   "metadata": {},
   "source": [
    "# 参考程序\n",
    "<font size=4>该程序来源于https://zhuanlan.zhihu.com/p/33733586<br>\n",
    "使用最新的sklearn库</font>"
   ]
  },
  {
   "cell_type": "markdown",
   "metadata": {},
   "source": [
    "# 1.导入依赖包"
   ]
  },
  {
   "cell_type": "code",
   "execution_count": null,
   "metadata": {
    "collapsed": false
   },
   "outputs": [
    {
     "name": "stderr",
     "output_type": "stream",
     "text": [
      "G:\\Anaconda3\\lib\\site-packages\\sklearn\\ensemble\\weight_boosting.py:29: DeprecationWarning: numpy.core.umath_tests is an internal NumPy module and should not be imported. It will be removed in a future NumPy release.\n",
      "  from numpy.core.umath_tests import inner1d\n"
     ]
    }
   ],
   "source": [
    "import pandas as pd\n",
    "import numpy as np\n",
    "import matplotlib.pyplot as plt\n",
    "import seaborn as sns\n",
    "\n",
    "from sklearn.ensemble import RandomForestRegressor\n",
    "from sklearn.ensemble import GradientBoostingClassifier, RandomForestClassifier,AdaBoostClassifier\n",
    "from sklearn.tree import DecisionTreeClassifier\n",
    "from sklearn.pipeline import Pipeline,make_pipeline\n",
    "from sklearn.feature_selection import SelectKBest\n",
    "from sklearn.model_selection import GridSearchCV,cross_val_score,learning_curve\n",
    "\n",
    "from xgboost import XGBClassifier\n",
    "\n",
    "import warnings\n",
    "warnings.filterwarnings('ignore')\n",
    "\n",
    "%matplotlib inline\n"
   ]
  },
  {
   "cell_type": "markdown",
   "metadata": {},
   "source": [
    "# 2.导入数据"
   ]
  },
  {
   "cell_type": "code",
   "execution_count": null,
   "metadata": {
    "collapsed": false
   },
   "outputs": [],
   "source": [
    "train = pd.read_csv('../data/train.csv',dtype={\"Age\": np.float64})\n",
    "test = pd.read_csv('../data/test.csv',dtype={\"Age\": np.float64})\n",
    "PassengerId=test['PassengerId']\n",
    "all_data = pd.concat([train, test], ignore_index = True)\n",
    "train.info()\n",
    "print('*'*10)\n",
    "test.info()"
   ]
  },
  {
   "cell_type": "markdown",
   "metadata": {},
   "source": [
    "# 3.数据可视化"
   ]
  },
  {
   "cell_type": "code",
   "execution_count": null,
   "metadata": {
    "collapsed": false
   },
   "outputs": [],
   "source": [
    "#性别特征\n",
    "sns.barplot(x=\"Sex\", y=\"Survived\", data=train, palette='Set3')\n",
    "print(\"Percentage of females who survived:%.2f\" % (train[\"Survived\"][train[\"Sex\"] == 'female'].value_counts(normalize = True)[1]*100))\n",
    "print(\"Percentage of males who survived:%.2f\" % (train[\"Survived\"][train[\"Sex\"] == 'male'].value_counts(normalize = True)[1]*100))"
   ]
  },
  {
   "cell_type": "code",
   "execution_count": null,
   "metadata": {
    "collapsed": false
   },
   "outputs": [],
   "source": [
    "#乘客社会等级\n",
    "sns.barplot(x=\"Pclass\", y=\"Survived\", data=train, palette='Set3')\n",
    "print(\"Percentage of Pclass = 1 who survived:%.2f\" % (train[\"Survived\"][train[\"Pclass\"] == 1].value_counts(normalize = True)[1]*100))\n",
    "print(\"Percentage of Pclass = 2 who survived:%.2f\" % (train[\"Survived\"][train[\"Pclass\"] == 2].value_counts(normalize = True)[1]*100))\n",
    "print(\"Percentage of Pclass = 3 who survived:%.2f\" % (train[\"Survived\"][train[\"Pclass\"] == 3].value_counts(normalize = True)[1]*100))"
   ]
  },
  {
   "cell_type": "code",
   "execution_count": null,
   "metadata": {
    "collapsed": false
   },
   "outputs": [],
   "source": [
    "#配偶以及兄弟姐妹数\n",
    "sns.barplot(x=\"SibSp\", y=\"Survived\", data=train, palette='Set3')"
   ]
  },
  {
   "cell_type": "code",
   "execution_count": null,
   "metadata": {
    "collapsed": false,
    "scrolled": true
   },
   "outputs": [],
   "source": [
    "#父母和子女数\n",
    "sns.barplot(x=\"Parch\", y=\"Survived\", data=train, palette='Set3')"
   ]
  },
  {
   "cell_type": "code",
   "execution_count": null,
   "metadata": {
    "collapsed": false,
    "scrolled": true
   },
   "outputs": [],
   "source": [
    "#年龄分布和生存下来的关系    kdeplot核密度分布图\n",
    "facet = sns.FacetGrid(train, hue=\"Survived\",aspect=2)\n",
    "facet.map(sns.kdeplot,'Age',shade= True)\n",
    "facet.set(xlim=(0, train['Age'].max()))\n",
    "facet.add_legend()"
   ]
  },
  {
   "cell_type": "code",
   "execution_count": null,
   "metadata": {
    "collapsed": false
   },
   "outputs": [],
   "source": [
    "#船费和生存下来的关系\n",
    "facet = sns.FacetGrid(train, hue=\"Survived\",aspect=2)\n",
    "facet.map(sns.kdeplot,'Fare',shade= True)\n",
    "facet.set(xlim=(0, 200))\n",
    "facet.add_legend()"
   ]
  },
  {
   "cell_type": "code",
   "execution_count": null,
   "metadata": {
    "collapsed": false
   },
   "outputs": [],
   "source": [
    "#姓名中的称呼和生存下来的关系\n",
    "all_data['Title'] = all_data['Name'].apply(lambda x:x.split(',')[1].split('.')[0].strip())\n",
    "Title_Dict = {}\n",
    "Title_Dict.update(dict.fromkeys(['Capt', 'Col', 'Major', 'Dr', 'Rev'], 'Officer'))\n",
    "Title_Dict.update(dict.fromkeys(['Don', 'Sir', 'the Countess', 'Dona', 'Lady'], 'Royalty'))\n",
    "Title_Dict.update(dict.fromkeys(['Mme', 'Ms', 'Mrs'], 'Mrs'))\n",
    "Title_Dict.update(dict.fromkeys(['Mlle', 'Miss'], 'Miss'))\n",
    "Title_Dict.update(dict.fromkeys(['Mr'], 'Mr'))\n",
    "Title_Dict.update(dict.fromkeys(['Master','Jonkheer'], 'Master'))\n",
    "all_data['Title'] = all_data['Title'].map(Title_Dict)\n",
    "sns.barplot(x=\"Title\", y=\"Survived\", data=all_data, palette='Set3')"
   ]
  },
  {
   "cell_type": "code",
   "execution_count": null,
   "metadata": {
    "collapsed": false
   },
   "outputs": [],
   "source": [
    "#将SibSp和Parch两个参数汇总，家庭成员和生存下来的关系\n",
    "all_data['FamilySize']=all_data['SibSp']+all_data['Parch']+1\n",
    "sns.barplot(x=\"FamilySize\", y=\"Survived\", data=all_data, palette='Set3')"
   ]
  },
  {
   "cell_type": "code",
   "execution_count": null,
   "metadata": {
    "collapsed": false
   },
   "outputs": [],
   "source": [
    "#将家庭成员分为三类\n",
    "def Fam_label(s):\n",
    "    if (s >= 2) & (s <= 4):\n",
    "        return 2\n",
    "    elif ((s > 4) & (s <= 7)) | (s == 1):\n",
    "        return 1\n",
    "    elif (s > 7):\n",
    "        return 0\n",
    "all_data['FamilyLabel']=all_data['FamilySize'].apply(Fam_label)\n",
    "sns.barplot(x=\"FamilyLabel\", y=\"Survived\", data=all_data, palette='Set3')"
   ]
  },
  {
   "cell_type": "code",
   "execution_count": null,
   "metadata": {
    "collapsed": false
   },
   "outputs": [],
   "source": [
    "#不同船舱与生存下来的关系，\n",
    "all_data['Cabin'] = all_data['Cabin'].fillna('Unknown')     #使用Unknown填充缺失值\n",
    "all_data['Deck']=all_data['Cabin'].str.get(0)\n",
    "sns.barplot(x=\"Deck\", y=\"Survived\", data=all_data, palette='Set3')\n",
    "#all_data['Cabin']"
   ]
  },
  {
   "cell_type": "code",
   "execution_count": null,
   "metadata": {
    "collapsed": false
   },
   "outputs": [],
   "source": [
    "#船票有一样的，设置团队票与生存下来的关系\n",
    "Ticket_Count = dict(all_data['Ticket'].value_counts())\n",
    "all_data['TicketGroup'] = all_data['Ticket'].apply(lambda x:Ticket_Count[x])\n",
    "sns.barplot(x='TicketGroup', y='Survived', data=all_data, palette='Set3')"
   ]
  },
  {
   "cell_type": "code",
   "execution_count": null,
   "metadata": {
    "collapsed": false
   },
   "outputs": [],
   "source": [
    "#将团队生存设置等级\n",
    "def Ticket_Label(s):\n",
    "    if (s >= 2) & (s <= 4):\n",
    "        return 2\n",
    "    elif ((s > 4) & (s <= 8)) | (s == 1):\n",
    "        return 1\n",
    "    elif (s > 8):\n",
    "        return 0\n",
    "\n",
    "all_data['TicketGroup'] = all_data['TicketGroup'].apply(Ticket_Label)\n",
    "sns.barplot(x='TicketGroup', y='Survived', data=all_data, palette='Set3')"
   ]
  },
  {
   "cell_type": "markdown",
   "metadata": {},
   "source": [
    "# 4.数据清洗"
   ]
  },
  {
   "cell_type": "code",
   "execution_count": 15,
   "metadata": {
    "collapsed": true
   },
   "outputs": [],
   "source": [
    "#使用随机森林回归填充Age缺失值\n",
    "age_df = all_data[['Age', 'Pclass','Sex','Title']]\n",
    "age_df=pd.get_dummies(age_df)\n",
    "known_age = age_df[age_df.Age.notnull()].as_matrix()\n",
    "unknown_age = age_df[age_df.Age.isnull()].as_matrix()\n",
    "y = known_age[:, 0]\n",
    "X = known_age[:, 1:]\n",
    "rfr = RandomForestRegressor(random_state=0, n_estimators=100, n_jobs=-1)\n",
    "rfr.fit(X, y)\n",
    "predictedAges = rfr.predict(unknown_age[:, 1::])\n",
    "all_data.loc[ (all_data.Age.isnull()), 'Age' ] = predictedAges "
   ]
  },
  {
   "cell_type": "code",
   "execution_count": 16,
   "metadata": {
    "collapsed": false
   },
   "outputs": [
    {
     "data": {
      "text/html": [
       "<div>\n",
       "<table border=\"1\" class=\"dataframe\">\n",
       "  <thead>\n",
       "    <tr style=\"text-align: right;\">\n",
       "      <th></th>\n",
       "      <th>Age</th>\n",
       "      <th>Cabin</th>\n",
       "      <th>Embarked</th>\n",
       "      <th>Fare</th>\n",
       "      <th>Name</th>\n",
       "      <th>Parch</th>\n",
       "      <th>PassengerId</th>\n",
       "      <th>Pclass</th>\n",
       "      <th>Sex</th>\n",
       "      <th>SibSp</th>\n",
       "      <th>Survived</th>\n",
       "      <th>Ticket</th>\n",
       "      <th>Title</th>\n",
       "      <th>FamilySize</th>\n",
       "      <th>FamilyLabel</th>\n",
       "      <th>Deck</th>\n",
       "      <th>TicketGroup</th>\n",
       "    </tr>\n",
       "  </thead>\n",
       "  <tbody>\n",
       "    <tr>\n",
       "      <th>61</th>\n",
       "      <td>38.0</td>\n",
       "      <td>B28</td>\n",
       "      <td>NaN</td>\n",
       "      <td>80.0</td>\n",
       "      <td>Icard, Miss. Amelie</td>\n",
       "      <td>0</td>\n",
       "      <td>62</td>\n",
       "      <td>1</td>\n",
       "      <td>female</td>\n",
       "      <td>0</td>\n",
       "      <td>1.0</td>\n",
       "      <td>113572</td>\n",
       "      <td>Miss</td>\n",
       "      <td>1</td>\n",
       "      <td>1</td>\n",
       "      <td>B</td>\n",
       "      <td>2</td>\n",
       "    </tr>\n",
       "    <tr>\n",
       "      <th>829</th>\n",
       "      <td>62.0</td>\n",
       "      <td>B28</td>\n",
       "      <td>NaN</td>\n",
       "      <td>80.0</td>\n",
       "      <td>Stone, Mrs. George Nelson (Martha Evelyn)</td>\n",
       "      <td>0</td>\n",
       "      <td>830</td>\n",
       "      <td>1</td>\n",
       "      <td>female</td>\n",
       "      <td>0</td>\n",
       "      <td>1.0</td>\n",
       "      <td>113572</td>\n",
       "      <td>Mrs</td>\n",
       "      <td>1</td>\n",
       "      <td>1</td>\n",
       "      <td>B</td>\n",
       "      <td>2</td>\n",
       "    </tr>\n",
       "  </tbody>\n",
       "</table>\n",
       "</div>"
      ],
      "text/plain": [
       "      Age Cabin Embarked  Fare                                       Name  \\\n",
       "61   38.0   B28      NaN  80.0                        Icard, Miss. Amelie   \n",
       "829  62.0   B28      NaN  80.0  Stone, Mrs. George Nelson (Martha Evelyn)   \n",
       "\n",
       "     Parch  PassengerId  Pclass     Sex  SibSp  Survived  Ticket Title  \\\n",
       "61       0           62       1  female      0       1.0  113572  Miss   \n",
       "829      0          830       1  female      0       1.0  113572   Mrs   \n",
       "\n",
       "     FamilySize  FamilyLabel Deck  TicketGroup  \n",
       "61            1            1    B            2  \n",
       "829           1            1    B            2  "
      ]
     },
     "execution_count": 16,
     "metadata": {},
     "output_type": "execute_result"
    }
   ],
   "source": [
    "#查看登录港口缺失值\n",
    "all_data[all_data['Embarked'].isnull()]"
   ]
  },
  {
   "cell_type": "code",
   "execution_count": 17,
   "metadata": {
    "collapsed": false
   },
   "outputs": [
    {
     "data": {
      "text/plain": [
       "<matplotlib.axes._subplots.AxesSubplot at 0x13f34b70>"
      ]
     },
     "execution_count": 17,
     "metadata": {},
     "output_type": "execute_result"
    },
    {
     "data": {
      "image/png": "[encoded data removed]",
      "text/plain": [
       "<matplotlib.figure.Figure at 0x146c7908>"
      ]
     },
     "metadata": {},
     "output_type": "display_data"
    }
   ],
   "source": [
    "sns.boxplot(x=\"Embarked\", y=\"Fare\", hue=\"Pclass\",data=all_data, palette=\"Set3\")"
   ]
  },
  {
   "cell_type": "code",
   "execution_count": 18,
   "metadata": {
    "collapsed": true
   },
   "outputs": [],
   "source": [
    "all_data['Embarked'] = all_data['Embarked'].fillna('C')"
   ]
  },
  {
   "cell_type": "code",
   "execution_count": 19,
   "metadata": {
    "collapsed": false
   },
   "outputs": [
    {
     "data": {
      "text/html": [
       "<div>\n",
       "<table border=\"1\" class=\"dataframe\">\n",
       "  <thead>\n",
       "    <tr style=\"text-align: right;\">\n",
       "      <th></th>\n",
       "      <th>Age</th>\n",
       "      <th>Cabin</th>\n",
       "      <th>Embarked</th>\n",
       "      <th>Fare</th>\n",
       "      <th>Name</th>\n",
       "      <th>Parch</th>\n",
       "      <th>PassengerId</th>\n",
       "      <th>Pclass</th>\n",
       "      <th>Sex</th>\n",
       "      <th>SibSp</th>\n",
       "      <th>Survived</th>\n",
       "      <th>Ticket</th>\n",
       "      <th>Title</th>\n",
       "      <th>FamilySize</th>\n",
       "      <th>FamilyLabel</th>\n",
       "      <th>Deck</th>\n",
       "      <th>TicketGroup</th>\n",
       "    </tr>\n",
       "  </thead>\n",
       "  <tbody>\n",
       "    <tr>\n",
       "      <th>1043</th>\n",
       "      <td>60.5</td>\n",
       "      <td>Unknown</td>\n",
       "      <td>S</td>\n",
       "      <td>NaN</td>\n",
       "      <td>Storey, Mr. Thomas</td>\n",
       "      <td>0</td>\n",
       "      <td>1044</td>\n",
       "      <td>3</td>\n",
       "      <td>male</td>\n",
       "      <td>0</td>\n",
       "      <td>NaN</td>\n",
       "      <td>3701</td>\n",
       "      <td>Mr</td>\n",
       "      <td>1</td>\n",
       "      <td>1</td>\n",
       "      <td>U</td>\n",
       "      <td>1</td>\n",
       "    </tr>\n",
       "  </tbody>\n",
       "</table>\n",
       "</div>"
      ],
      "text/plain": [
       "       Age    Cabin Embarked  Fare                Name  Parch  PassengerId  \\\n",
       "1043  60.5  Unknown        S   NaN  Storey, Mr. Thomas      0         1044   \n",
       "\n",
       "      Pclass   Sex  SibSp  Survived Ticket Title  FamilySize  FamilyLabel  \\\n",
       "1043       3  male      0       NaN   3701    Mr           1            1   \n",
       "\n",
       "     Deck  TicketGroup  \n",
       "1043    U            1  "
      ]
     },
     "execution_count": 19,
     "metadata": {},
     "output_type": "execute_result"
    }
   ],
   "source": [
    "#查看费用缺失值\n",
    "all_data[all_data['Fare'].isnull()]"
   ]
  },
  {
   "cell_type": "code",
   "execution_count": 20,
   "metadata": {
    "collapsed": true
   },
   "outputs": [],
   "source": [
    "fare=all_data[(all_data['Embarked'] == \"S\") & (all_data['Pclass'] == 3)].Fare.median()\n",
    "all_data['Fare']=all_data['Fare'].fillna(fare)"
   ]
  },
  {
   "cell_type": "code",
   "execution_count": 21,
   "metadata": {
    "collapsed": true
   },
   "outputs": [],
   "source": [
    "#将姓氏相同的化为一组，分别提取出每组中的妇女，儿童和成年男性\n",
    "all_data['Surname']=all_data['Name'].apply(lambda x:x.split(',')[0].strip())\n",
    "Surname_Count = dict(all_data['Surname'].value_counts())\n",
    "all_data['FamilyGroup'] = all_data['Surname'].apply(lambda x:Surname_Count[x])\n",
    "Female_Child_Group=all_data.loc[(all_data['FamilyGroup']>=2) & ((all_data['Age']<=12) | (all_data['Sex']=='female'))]\n",
    "Male_Adult_Group=all_data.loc[(all_data['FamilyGroup']>=2) & (all_data['Age']>12) & (all_data['Sex']=='male')]"
   ]
  },
  {
   "cell_type": "code",
   "execution_count": 22,
   "metadata": {
    "collapsed": false
   },
   "outputs": [
    {
     "data": {
      "text/html": [
       "<div>\n",
       "<table border=\"1\" class=\"dataframe\">\n",
       "  <thead>\n",
       "    <tr style=\"text-align: right;\">\n",
       "      <th></th>\n",
       "      <th>GroupCount</th>\n",
       "    </tr>\n",
       "  </thead>\n",
       "  <tbody>\n",
       "    <tr>\n",
       "      <th>1.000000</th>\n",
       "      <td>115</td>\n",
       "    </tr>\n",
       "    <tr>\n",
       "      <th>0.000000</th>\n",
       "      <td>31</td>\n",
       "    </tr>\n",
       "    <tr>\n",
       "      <th>0.750000</th>\n",
       "      <td>2</td>\n",
       "    </tr>\n",
       "    <tr>\n",
       "      <th>0.333333</th>\n",
       "      <td>1</td>\n",
       "    </tr>\n",
       "    <tr>\n",
       "      <th>0.142857</th>\n",
       "      <td>1</td>\n",
       "    </tr>\n",
       "  </tbody>\n",
       "</table>\n",
       "</div>"
      ],
      "text/plain": [
       "          GroupCount\n",
       "1.000000         115\n",
       "0.000000          31\n",
       "0.750000           2\n",
       "0.333333           1\n",
       "0.142857           1"
      ]
     },
     "execution_count": 22,
     "metadata": {},
     "output_type": "execute_result"
    }
   ],
   "source": [
    "Female_Child=pd.DataFrame(Female_Child_Group.groupby('Surname')['Survived'].mean().value_counts())\n",
    "Female_Child.columns=['GroupCount']\n",
    "Female_Child"
   ]
  },
  {
   "cell_type": "code",
   "execution_count": 23,
   "metadata": {
    "collapsed": false
   },
   "outputs": [
    {
     "data": {
      "text/plain": [
       "<matplotlib.text.Text at 0x14c90240>"
      ]
     },
     "execution_count": 23,
     "metadata": {},
     "output_type": "execute_result"
    },
    {
     "data": {
      "image/png": "[encoded data removed]",
      "text/plain": [
       "<matplotlib.figure.Figure at 0x14cd43c8>"
      ]
     },
     "metadata": {},
     "output_type": "display_data"
    }
   ],
   "source": [
    "sns.barplot(x=Female_Child.index, y=Female_Child[\"GroupCount\"], palette='Set3').set_xlabel('AverageSurvived')"
   ]
  },
  {
   "cell_type": "code",
   "execution_count": 24,
   "metadata": {
    "collapsed": false
   },
   "outputs": [
    {
     "data": {
      "text/html": [
       "<div>\n",
       "<table border=\"1\" class=\"dataframe\">\n",
       "  <thead>\n",
       "    <tr style=\"text-align: right;\">\n",
       "      <th></th>\n",
       "      <th>GroupCount</th>\n",
       "    </tr>\n",
       "  </thead>\n",
       "  <tbody>\n",
       "    <tr>\n",
       "      <th>0.000000</th>\n",
       "      <td>122</td>\n",
       "    </tr>\n",
       "    <tr>\n",
       "      <th>1.000000</th>\n",
       "      <td>20</td>\n",
       "    </tr>\n",
       "    <tr>\n",
       "      <th>0.500000</th>\n",
       "      <td>6</td>\n",
       "    </tr>\n",
       "    <tr>\n",
       "      <th>0.333333</th>\n",
       "      <td>2</td>\n",
       "    </tr>\n",
       "    <tr>\n",
       "      <th>0.250000</th>\n",
       "      <td>1</td>\n",
       "    </tr>\n",
       "  </tbody>\n",
       "</table>\n",
       "</div>"
      ],
      "text/plain": [
       "          GroupCount\n",
       "0.000000         122\n",
       "1.000000          20\n",
       "0.500000           6\n",
       "0.333333           2\n",
       "0.250000           1"
      ]
     },
     "execution_count": 24,
     "metadata": {},
     "output_type": "execute_result"
    }
   ],
   "source": [
    "Male_Adult=pd.DataFrame(Male_Adult_Group.groupby('Surname')['Survived'].mean().value_counts())\n",
    "Male_Adult.columns=['GroupCount']\n",
    "Male_Adult"
   ]
  },
  {
   "cell_type": "code",
   "execution_count": 25,
   "metadata": {
    "collapsed": false
   },
   "outputs": [
    {
     "data": {
      "text/plain": [
       "<matplotlib.text.Text at 0x14d80b38>"
      ]
     },
     "execution_count": 25,
     "metadata": {},
     "output_type": "execute_result"
    },
    {
     "data": {
      "image/png": "[encoded data removed]",
      "text/plain": [
       "<matplotlib.figure.Figure at 0x14d7cf28>"
      ]
     },
     "metadata": {},
     "output_type": "display_data"
    }
   ],
   "source": [
    "sns.barplot(x=Male_Adult.index, y=Male_Adult['GroupCount'], palette='Set3').set_xlabel('AverageSurvived')"
   ]
  },
  {
   "cell_type": "code",
   "execution_count": 26,
   "metadata": {
    "collapsed": false
   },
   "outputs": [
    {
     "name": "stdout",
     "output_type": "stream",
     "text": [
      "{'Zabour', 'Boulos', 'Sage', 'Panula', 'Van Impe', 'Ilmakangas', 'Ford', 'Jussila', 'Bourke', 'Lahtinen', 'Lobb', 'Caram', 'Rosblom', 'Attalah', 'Cacic', 'Skoog', 'Robins', 'Barbara', 'Olsson', 'Rice', 'Johnston', 'Palsson', 'Strom', 'Lefebre', 'Danbom', 'Goodwin', 'Arnold-Franchi', 'Canavan', 'Vander Planke', 'Turpin', 'Oreskovic'}\n",
      "{'Daly', 'Frolicher-Stehli', 'McCoy', 'Dick', 'Nakid', 'Taylor', 'Chambers', 'Duff Gordon', 'Cardeza', 'Frauenthal', 'Jussila', 'Kimball', 'Jonsson', 'Beane', 'Bishop', 'Beckwith', 'Harder', 'Goldenberg', 'Greenfield', 'Bradley'}\n"
     ]
    }
   ],
   "source": [
    "#普遍规律是女性和儿童幸存率高，成年男性幸存较低，所以我们把不符合普遍规律的反常组选出来单独处理\n",
    "#把女性和儿童组中幸存率为0的组设置为遇难组，把成年男性组中存活率为1的设置为幸存组\n",
    "Female_Child_Group=Female_Child_Group.groupby('Surname')['Survived'].mean()\n",
    "Dead_List=set(Female_Child_Group[Female_Child_Group.apply(lambda x:x==0)].index)\n",
    "print(Dead_List)\n",
    "Male_Adult_List=Male_Adult_Group.groupby('Surname')['Survived'].mean()\n",
    "Survived_List=set(Male_Adult_List[Male_Adult_List.apply(lambda x:x==1)].index)\n",
    "print(Survived_List)"
   ]
  },
  {
   "cell_type": "code",
   "execution_count": 27,
   "metadata": {
    "collapsed": true
   },
   "outputs": [],
   "source": [
    "#对测试集中处于反常组中的样本的Age，Title，Sex进行惩罚修改。\n",
    "train=all_data.loc[all_data['Survived'].notnull()]\n",
    "test=all_data.loc[all_data['Survived'].isnull()]\n",
    "test.loc[(test['Surname'].apply(lambda x:x in Dead_List)),'Sex'] = 'male'\n",
    "test.loc[(test['Surname'].apply(lambda x:x in Dead_List)),'Age'] = 60\n",
    "test.loc[(test['Surname'].apply(lambda x:x in Dead_List)),'Title'] = 'Mr'\n",
    "test.loc[(test['Surname'].apply(lambda x:x in Survived_List)),'Sex'] = 'female'\n",
    "test.loc[(test['Surname'].apply(lambda x:x in Survived_List)),'Age'] = 5\n",
    "test.loc[(test['Surname'].apply(lambda x:x in Survived_List)),'Title'] = 'Miss'"
   ]
  },
  {
   "cell_type": "code",
   "execution_count": 28,
   "metadata": {
    "collapsed": false
   },
   "outputs": [],
   "source": [
    "#特征转换，选取特征，转换为数值变量\n",
    "all_data=pd.concat([train, test])\n",
    "all_data=all_data[['Survived','Pclass','Sex','Age','Fare','Embarked','Title','FamilyLabel','Deck','TicketGroup']]\n",
    "all_data=pd.get_dummies(all_data)\n",
    "train=all_data[all_data['Survived'].notnull()]\n",
    "test=all_data[all_data['Survived'].isnull()].drop('Survived',axis=1)\n",
    "X = train.as_matrix()[:,1:]\n",
    "y = train.as_matrix()[:,0]"
   ]
  },
  {
   "cell_type": "markdown",
   "metadata": {},
   "source": [
    "# 5.建模和优化"
   ]
  },
  {
   "cell_type": "code",
   "execution_count": 29,
   "metadata": {
    "collapsed": true
   },
   "outputs": [],
   "source": [
    "#该函数用来绘制score学习曲线，参见sklearn example\n",
    "def plot_learning_curve(estimator, title, X, y, ylim=None, cv=None,\n",
    "                        n_jobs=1, train_sizes=np.linspace(.1, 1.0, 5), verbose=0):\n",
    "    \"\"\"\n",
    "    Generate a simple plot of the test and traning learning curve.\n",
    "\n",
    "    Parameters\n",
    "    ----------\n",
    "    estimator : object type that implements the \"fit\" and \"predict\" methods\n",
    "        An object of that type which is cloned for each validation.\n",
    "\n",
    "    title : string\n",
    "        Title for the chart.\n",
    "\n",
    "    X : array-like, shape (n_samples, n_features)\n",
    "        Training vector, where n_samples is the number of samples and\n",
    "        n_features is the number of features.\n",
    "\n",
    "    y : array-like, shape (n_samples) or (n_samples, n_features), optional\n",
    "        Target relative to X for classification or regression;\n",
    "        None for unsupervised learning.\n",
    "\n",
    "    ylim : tuple, shape (ymin, ymax), optional\n",
    "        Defines minimum and maximum yvalues plotted.\n",
    "\n",
    "    cv : integer, cross-validation generator, optional\n",
    "        If an integer is passed, it is the number of folds (defaults to 3).\n",
    "        Specific cross-validation objects can be passed, see\n",
    "        sklearn.cross_validation module for the list of possible objects\n",
    "\n",
    "    n_jobs : integer, optional\n",
    "        Number of jobs to run in parallel (default 1).\n",
    "    \"\"\"\n",
    "    plt.figure()\n",
    "    plt.title(title)\n",
    "    if ylim is not None:\n",
    "        plt.ylim(*ylim)\n",
    "    plt.xlabel(\"Training examples\")\n",
    "    plt.ylabel(\"Score\")\n",
    "    train_sizes, train_scores, test_scores = learning_curve(\n",
    "        estimator, X, y, cv=cv, n_jobs=n_jobs, train_sizes=train_sizes)\n",
    "    train_scores_mean = np.mean(train_scores, axis=1)\n",
    "    train_scores_std = np.std(train_scores, axis=1)\n",
    "    test_scores_mean = np.mean(test_scores, axis=1)\n",
    "    test_scores_std = np.std(test_scores, axis=1)\n",
    "    \n",
    "    plt.grid()\n",
    "    #fill_between用来填充不同曲线周边的颜色\n",
    "    plt.fill_between(train_sizes, train_scores_mean - train_scores_std,\n",
    "                     train_scores_mean + train_scores_std, alpha=0.1,\n",
    "                     color=\"r\")\n",
    "    plt.fill_between(train_sizes, test_scores_mean - test_scores_std,\n",
    "                     test_scores_mean + test_scores_std, alpha=0.1, color=\"g\")\n",
    "    #绘制训练得分\n",
    "    plt.plot(train_sizes, train_scores_mean, 'o-', color=\"r\",\n",
    "             label=\"Training score\")\n",
    "    #训练验证得分\n",
    "    plt.plot(train_sizes, test_scores_mean, 'o-', color=\"g\",\n",
    "             label=\"Cross-validation score\")\n",
    "\n",
    "    plt.legend(loc=\"best\")\n",
    "    return plt"
   ]
  },
  {
   "cell_type": "markdown",
   "metadata": {},
   "source": [
    "## --Adaboost模型"
   ]
  },
  {
   "cell_type": "code",
   "execution_count": 33,
   "metadata": {
    "collapsed": false
   },
   "outputs": [
    {
     "name": "stdout",
     "output_type": "stream",
     "text": [
      "{'classify__base_estimator__max_depth': 2, 'classify__learning_rate': 0.08, 'classify__n_estimators': 144} 0.8745081367580873\n"
     ]
    }
   ],
   "source": [
    "from sklearn.tree import DecisionTreeClassifier\n",
    "\n",
    "#参数优化,使用管道机制找Adaboost最优参数\n",
    "pipe=Pipeline([('select',SelectKBest(k=20)), \n",
    "               ('classify', AdaBoostClassifier(DecisionTreeClassifier(),random_state=10))])\n",
    "               \n",
    "param_test ={'classify__base_estimator__max_depth':range(2,7,1),\n",
    "            'classify__learning_rate':np.arange(0.01,0.2,0.01),\n",
    "            'classify__n_estimators':range(50,200,2)}               \n",
    "               \n",
    "gsearch = GridSearchCV(estimator = pipe, param_grid = param_test, scoring='roc_auc', cv=10)\n",
    "gsearch.fit(X,y)\n",
    "print(gsearch.best_params_, gsearch.best_score_)"
   ]
  },
  {
   "cell_type": "code",
   "execution_count": 34,
   "metadata": {
    "collapsed": false
   },
   "outputs": [
    {
     "data": {
      "text/plain": [
       "Pipeline(steps=[('selectkbest', SelectKBest(k=20, score_func=<function f_classif at 0x0000000010AFF268>)), ('adaboostclassifier', AdaBoostClassifier(algorithm='SAMME.R',\n",
       "          base_estimator=DecisionTreeClassifier(class_weight=None, criterion='gini', max_depth=2,\n",
       "            max_features=None, max_leaf_n...dom_state=None, splitter='best'),\n",
       "          learning_rate=0.08, n_estimators=144, random_state=10))])"
      ]
     },
     "execution_count": 34,
     "metadata": {},
     "output_type": "execute_result"
    }
   ],
   "source": [
    "#训练模型\n",
    "select = SelectKBest(k = 20)\n",
    "clf = AdaBoostClassifier(DecisionTreeClassifier(max_depth=2),learning_rate=0.08,n_estimators=144,random_state=10)\n",
    "pipeline = make_pipeline(select, clf)\n",
    "pipeline.fit(X, y)"
   ]
  },
  {
   "cell_type": "code",
   "execution_count": 35,
   "metadata": {
    "collapsed": false
   },
   "outputs": [
    {
     "name": "stdout",
     "output_type": "stream",
     "text": [
      "CV Score : Mean - 0.8351277 | Std - 0.04531288 \n"
     ]
    }
   ],
   "source": [
    "#交叉验证\n",
    "cv_score = cross_val_score(pipeline, X, y, cv= 10)\n",
    "print(\"CV Score : Mean - %.7g | Std - %.7g \" % (np.mean(cv_score), np.std(cv_score)))"
   ]
  },
  {
   "cell_type": "code",
   "execution_count": 36,
   "metadata": {
    "collapsed": false
   },
   "outputs": [
    {
     "data": {
      "image/png": "[encoded data removed]",
      "text/plain": [
       "<matplotlib.figure.Figure at 0x14e39048>"
      ]
     },
     "metadata": {},
     "output_type": "display_data"
    }
   ],
   "source": [
    "#模型验证\n",
    "title = \"Adaboost Learning Curves\"\n",
    "plot_learning_curve(pipeline, title, X,y, cv=5,  n_jobs=4, train_sizes=[50, 100, 150, 200, 250, 350, 400, 450, 500])\n",
    "plt.show()"
   ]
  },
  {
   "cell_type": "code",
   "execution_count": 40,
   "metadata": {
    "collapsed": true
   },
   "outputs": [],
   "source": [
    "#预测\n",
    "predictions = pipeline.predict(test)\n",
    "submission = pd.DataFrame({\"PassengerId\": PassengerId, \"Survived\": predictions.astype(np.int32)})\n",
    "submission.to_csv(\"../out/Adaboost_submission.csv\", index=False)"
   ]
  },
  {
   "cell_type": "markdown",
   "metadata": {},
   "source": [
    "##  --XGBoost模型"
   ]
  },
  {
   "cell_type": "code",
   "execution_count": 31,
   "metadata": {
    "collapsed": false
   },
   "outputs": [
    {
     "name": "stdout",
     "output_type": "stream",
     "text": [
      "{'classify__learning_rate': 0.17, 'classify__max_depth': 2, 'classify__n_estimators': 122} 0.8811815937022248\n"
     ]
    }
   ],
   "source": [
    "#参数优化,使用管道机制找XGBoost最优参数\n",
    "pipe=Pipeline([('select',SelectKBest(k=20)), \n",
    "               ('classify', XGBClassifier(silent=True, objective='binary:logistic'))])\n",
    "               \n",
    "param_test ={'classify__max_depth':range(2,7,1),\n",
    "            'classify__learning_rate':np.arange(0.01,0.2,0.01),\n",
    "            'classify__n_estimators':range(100,200,2)}               \n",
    "               \n",
    "gsearch = GridSearchCV(estimator = pipe, param_grid = param_test, scoring='roc_auc', cv=10)\n",
    "gsearch.fit(X,y)\n",
    "print(gsearch.best_params_, gsearch.best_score_)"
   ]
  },
  {
   "cell_type": "code",
   "execution_count": 38,
   "metadata": {
    "collapsed": false
   },
   "outputs": [
    {
     "data": {
      "text/plain": [
       "Pipeline(steps=[('selectkbest', SelectKBest(k=20, score_func=<function f_classif at 0x0000000010AFF268>)), ('xgbclassifier', XGBClassifier(base_score=0.5, booster='gbtree', colsample_bylevel=1,\n",
       "       colsample_bytree=1, gamma=0, learning_rate=0.17, max_delta_step=0,\n",
       "       max_depth=2, min_child_weight=1, m...\n",
       "       reg_alpha=0, reg_lambda=1, scale_pos_weight=1, seed=None,\n",
       "       silent=True, subsample=1))])"
      ]
     },
     "execution_count": 38,
     "metadata": {},
     "output_type": "execute_result"
    }
   ],
   "source": [
    "#训练模型\n",
    "select = SelectKBest(k = 20)\n",
    "clf = XGBClassifier(learning_rate=0.17,max_depth=2,n_estimators=122,silent=True, objective='binary:logistic')\n",
    "pipeline = make_pipeline(select, clf)\n",
    "pipeline.fit(X, y)"
   ]
  },
  {
   "cell_type": "code",
   "execution_count": 39,
   "metadata": {
    "collapsed": false
   },
   "outputs": [
    {
     "name": "stdout",
     "output_type": "stream",
     "text": [
      "CV Score : Mean - 0.8406708 | Std - 0.04056789 \n"
     ]
    }
   ],
   "source": [
    "#交叉验证\n",
    "cv_score = cross_val_score(pipeline, X, y, cv= 10)\n",
    "print(\"CV Score : Mean - %.7g | Std - %.7g \" % (np.mean(cv_score), np.std(cv_score)))"
   ]
  },
  {
   "cell_type": "code",
   "execution_count": 41,
   "metadata": {
    "collapsed": false
   },
   "outputs": [
    {
     "data": {
      "image/png": "[encoded data removed]",
      "text/plain": [
       "<matplotlib.figure.Figure at 0x177c69e8>"
      ]
     },
     "metadata": {},
     "output_type": "display_data"
    }
   ],
   "source": [
    "#模型验证\n",
    "title = \"XGB Learning Curves\"\n",
    "plot_learning_curve(pipeline, title, X,y, cv=5,  n_jobs=4, train_sizes=[50, 100, 150, 200, 250, 350, 400, 450, 500])\n",
    "plt.show()"
   ]
  },
  {
   "cell_type": "code",
   "execution_count": 42,
   "metadata": {
    "collapsed": true
   },
   "outputs": [],
   "source": [
    "#预测\n",
    "predictions = pipeline.predict(test)\n",
    "submission = pd.DataFrame({\"PassengerId\": PassengerId, \"Survived\": predictions.astype(np.int32)})\n",
    "submission.to_csv(\"../out/XGB_submission.csv\", index=False)"
   ]
  },
  {
   "cell_type": "markdown",
   "metadata": {},
   "source": [
    "## --随机森林模型"
   ]
  },
  {
   "cell_type": "code",
   "execution_count": 43,
   "metadata": {
    "collapsed": false
   },
   "outputs": [
    {
     "name": "stdout",
     "output_type": "stream",
     "text": [
      "{'classify__max_depth': 6, 'classify__n_estimators': 42} 0.8810963508395343\n"
     ]
    }
   ],
   "source": [
    "#参数优化,使用管道机制找随机森林最优参数\n",
    "pipe=Pipeline([('select',SelectKBest(k=20)), \n",
    "               ('classify', RandomForestClassifier(random_state = 10, max_features = 'sqrt'))])\n",
    "\n",
    "param_test = {'classify__n_estimators':list(range(20,50,2)), \n",
    "              'classify__max_depth':list(range(3,60,3))}\n",
    "gsearch = GridSearchCV(estimator = pipe, param_grid = param_test, scoring='roc_auc', cv=10)\n",
    "gsearch.fit(X,y)\n",
    "print(gsearch.best_params_, gsearch.best_score_)"
   ]
  },
  {
   "cell_type": "code",
   "execution_count": 44,
   "metadata": {
    "collapsed": false
   },
   "outputs": [
    {
     "data": {
      "text/plain": [
       "Pipeline(steps=[('selectkbest', SelectKBest(k=20, score_func=<function f_classif at 0x0000000010AFF268>)), ('randomforestclassifier', RandomForestClassifier(bootstrap=True, class_weight=None, criterion='gini',\n",
       "            max_depth=6, max_features='sqrt', max_leaf_nodes=None,\n",
       "            min_impurity_split=1...estimators=26, n_jobs=1, oob_score=False, random_state=10,\n",
       "            verbose=0, warm_start=True))])"
      ]
     },
     "execution_count": 44,
     "metadata": {},
     "output_type": "execute_result"
    }
   ],
   "source": [
    "#训练模型\n",
    "select = SelectKBest(k = 20)\n",
    "clf = RandomForestClassifier(random_state = 10, warm_start = True, \n",
    "                                  n_estimators = 26,\n",
    "                                  max_depth = 6, \n",
    "                                  max_features = 'sqrt')\n",
    "pipeline = make_pipeline(select, clf)\n",
    "pipeline.fit(X, y)"
   ]
  },
  {
   "cell_type": "code",
   "execution_count": 45,
   "metadata": {
    "collapsed": false
   },
   "outputs": [
    {
     "name": "stdout",
     "output_type": "stream",
     "text": [
      "CV Score : Mean - 0.8451402 | Std - 0.03276752 \n"
     ]
    }
   ],
   "source": [
    "#交叉验证\n",
    "cv_score = cross_val_score(pipeline, X, y, cv= 10)\n",
    "print(\"CV Score : Mean - %.7g | Std - %.7g \" % (np.mean(cv_score), np.std(cv_score)))"
   ]
  },
  {
   "cell_type": "code",
   "execution_count": 46,
   "metadata": {
    "collapsed": false
   },
   "outputs": [
    {
     "data": {
      "image/png": "[encoded data removed]",
      "text/plain": [
       "<matplotlib.figure.Figure at 0x14e174e0>"
      ]
     },
     "metadata": {},
     "output_type": "display_data"
    }
   ],
   "source": [
    "#模型验证\n",
    "title = \"RF Learning Curves\"\n",
    "# rf = RandomForestClassifier(n_estimators=500,min_samples_leaf=3,max_depth=6,oob_score=True)\n",
    "plot_learning_curve(pipeline, title, X,y, cv=5,  n_jobs=4, train_sizes=[50, 100, 150, 200, 250, 350, 400, 450, 500])\n",
    "plt.show()"
   ]
  },
  {
   "cell_type": "code",
   "execution_count": 47,
   "metadata": {
    "collapsed": true
   },
   "outputs": [],
   "source": [
    "#预测\n",
    "predictions = pipeline.predict(test)\n",
    "submission = pd.DataFrame({\"PassengerId\": PassengerId, \"Survived\": predictions.astype(np.int32)})\n",
    "submission.to_csv(\"../out/RF_submission.csv\", index=False)"
   ]
  },
  {
   "cell_type": "markdown",
   "metadata": {},
   "source": [
    "# 6.预测"
   ]
  },
  {
   "cell_type": "code",
   "execution_count": null,
   "metadata": {
    "collapsed": true
   },
   "outputs": [],
   "source": [
    "#预测\n",
    "predictions = pipeline.predict(test)\n",
    "submission = pd.DataFrame({\"PassengerId\": PassengerId, \"Survived\": predictions.astype(np.int32)})\n",
    "submission.to_csv(\"../out/submission.csv\", index=False)"
   ]
  },
  {
   "cell_type": "code",
   "execution_count": null,
   "metadata": {
    "collapsed": true
   },
   "outputs": [],
   "source": []
  },
  {
   "cell_type": "code",
   "execution_count": null,
   "metadata": {
    "collapsed": true
   },
   "outputs": [],
   "source": []
  }
 ],
 "metadata": {
  "kernelspec": {
   "display_name": "Python 3",
   "language": "python",
   "name": "python3"
  },
  "language_info": {
   "codemirror_mode": {
    "name": "ipython",
    "version": 3
   },
   "file_extension": ".py",
   "mimetype": "text/x-python",
   "name": "python",
   "nbconvert_exporter": "python",
   "pygments_lexer": "ipython3",
   "version": "3.6.0"
  }
 },
 "nbformat": 4,
 "nbformat_minor": 2
}
