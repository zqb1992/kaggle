{
 "cells": [
  {
   "cell_type": "markdown",
   "metadata": {},
   "source": [
    "# 参考程序\n",
    "<font size=4>该程序来源于https://zhuanlan.zhihu.com/p/33733586<br>\n",
    "使用最新的sklearn库</font>"
   ]
  },
  {
   "cell_type": "markdown",
   "metadata": {},
   "source": [
    "# 1.导入依赖包"
   ]
  },
  {
   "cell_type": "code",
   "execution_count": 1,
   "metadata": {
    "collapsed": false
   },
   "outputs": [
    {
     "name": "stderr",
     "output_type": "stream",
     "text": [
      "C:\\ProgramData\\Anaconda3\\lib\\site-packages\\sklearn\\cross_validation.py:44: DeprecationWarning: This module was deprecated in version 0.18 in favor of the model_selection module into which all the refactored classes and functions are moved. Also note that the interface of the new CV iterators are different from that of this module. This module will be removed in 0.20.\n",
      "  \"This module will be removed in 0.20.\", DeprecationWarning)\n",
      "C:\\ProgramData\\Anaconda3\\lib\\site-packages\\sklearn\\grid_search.py:43: DeprecationWarning: This module was deprecated in version 0.18 in favor of the model_selection module into which all the refactored classes and functions are moved. This module will be removed in 0.20.\n",
      "  DeprecationWarning)\n"
     ]
    }
   ],
   "source": [
    "import pandas as pd\n",
    "import numpy as np\n",
    "import matplotlib.pyplot as plt\n",
    "import seaborn as sns\n",
    "\n",
    "from sklearn.ensemble import RandomForestRegressor\n",
    "from sklearn.pipeline import Pipeline,make_pipeline\n",
    "from sklearn.ensemble import GradientBoostingClassifier, RandomForestClassifier\n",
    "from sklearn.feature_selection import SelectKBest\n",
    "from sklearn import cross_validation, metrics\n",
    "from sklearn.grid_search import RandomizedSearchCV\n",
    "from sklearn.model_selection import GridSearchCV\n",
    "\n",
    "import warnings\n",
    "warnings.filterwarnings('ignore')\n",
    "\n",
    "%matplotlib inline\n"
   ]
  },
  {
   "cell_type": "markdown",
   "metadata": {},
   "source": [
    "# 2.导入数据"
   ]
  },
  {
   "cell_type": "code",
   "execution_count": 2,
   "metadata": {
    "collapsed": false
   },
   "outputs": [
    {
     "name": "stdout",
     "output_type": "stream",
     "text": [
      "<class 'pandas.core.frame.DataFrame'>\n",
      "RangeIndex: 891 entries, 0 to 890\n",
      "Data columns (total 12 columns):\n",
      "PassengerId    891 non-null int64\n",
      "Survived       891 non-null int64\n",
      "Pclass         891 non-null int64\n",
      "Name           891 non-null object\n",
      "Sex            891 non-null object\n",
      "Age            714 non-null float64\n",
      "SibSp          891 non-null int64\n",
      "Parch          891 non-null int64\n",
      "Ticket         891 non-null object\n",
      "Fare           891 non-null float64\n",
      "Cabin          204 non-null object\n",
      "Embarked       889 non-null object\n",
      "dtypes: float64(2), int64(5), object(5)\n",
      "memory usage: 83.6+ KB\n",
      "**********\n",
      "<class 'pandas.core.frame.DataFrame'>\n",
      "RangeIndex: 418 entries, 0 to 417\n",
      "Data columns (total 11 columns):\n",
      "PassengerId    418 non-null int64\n",
      "Pclass         418 non-null int64\n",
      "Name           418 non-null object\n",
      "Sex            418 non-null object\n",
      "Age            332 non-null float64\n",
      "SibSp          418 non-null int64\n",
      "Parch          418 non-null int64\n",
      "Ticket         418 non-null object\n",
      "Fare           417 non-null float64\n",
      "Cabin          91 non-null object\n",
      "Embarked       418 non-null object\n",
      "dtypes: float64(2), int64(4), object(5)\n",
      "memory usage: 36.0+ KB\n"
     ]
    }
   ],
   "source": [
    "train = pd.read_csv('../data/train.csv',dtype={\"Age\": np.float64})\n",
    "test = pd.read_csv('../data/test.csv',dtype={\"Age\": np.float64})\n",
    "PassengerId=test['PassengerId']\n",
    "all_data = pd.concat([train, test], ignore_index = True)\n",
    "train.info()\n",
    "print('*'*10)\n",
    "test.info()"
   ]
  },
  {
   "cell_type": "markdown",
   "metadata": {},
   "source": [
    "# 3.数据可视化"
   ]
  },
  {
   "cell_type": "code",
   "execution_count": 3,
   "metadata": {
    "collapsed": false
   },
   "outputs": [
    {
     "name": "stdout",
     "output_type": "stream",
     "text": [
      "Percentage of females who survived:74.20\n",
      "Percentage of males who survived:18.89\n"
     ]
    },
    {
     "data": {
      "image/png": "[encoded data removed]",
      "text/plain": [
       "<matplotlib.figure.Figure at 0x10e20940>"
      ]
     },
     "metadata": {},
     "output_type": "display_data"
    }
   ],
   "source": [
    "#性别特征\n",
    "sns.barplot(x=\"Sex\", y=\"Survived\", data=train, palette='Set3')\n",
    "print(\"Percentage of females who survived:%.2f\" % (train[\"Survived\"][train[\"Sex\"] == 'female'].value_counts(normalize = True)[1]*100))\n",
    "print(\"Percentage of males who survived:%.2f\" % (train[\"Survived\"][train[\"Sex\"] == 'male'].value_counts(normalize = True)[1]*100))"
   ]
  },
  {
   "cell_type": "code",
   "execution_count": 4,
   "metadata": {
    "collapsed": false
   },
   "outputs": [
    {
     "name": "stdout",
     "output_type": "stream",
     "text": [
      "Percentage of Pclass = 1 who survived:62.96\n",
      "Percentage of Pclass = 2 who survived:47.28\n",
      "Percentage of Pclass = 3 who survived:24.24\n"
     ]
    },
    {
     "data": {
      "image/png": "[encoded data removed]",
      "text/plain": [
       "<matplotlib.figure.Figure at 0x13f4bba8>"
      ]
     },
     "metadata": {},
     "output_type": "display_data"
    }
   ],
   "source": [
    "#乘客社会等级\n",
    "sns.barplot(x=\"Pclass\", y=\"Survived\", data=train, palette='Set3')\n",
    "print(\"Percentage of Pclass = 1 who survived:%.2f\" % (train[\"Survived\"][train[\"Pclass\"] == 1].value_counts(normalize = True)[1]*100))\n",
    "print(\"Percentage of Pclass = 2 who survived:%.2f\" % (train[\"Survived\"][train[\"Pclass\"] == 2].value_counts(normalize = True)[1]*100))\n",
    "print(\"Percentage of Pclass = 3 who survived:%.2f\" % (train[\"Survived\"][train[\"Pclass\"] == 3].value_counts(normalize = True)[1]*100))"
   ]
  },
  {
   "cell_type": "code",
   "execution_count": 5,
   "metadata": {
    "collapsed": false
   },
   "outputs": [
    {
     "data": {
      "text/plain": [
       "<matplotlib.axes._subplots.AxesSubplot at 0x13ecf080>"
      ]
     },
     "execution_count": 5,
     "metadata": {},
     "output_type": "execute_result"
    },
    {
     "data": {
      "image/png": "[encoded data removed]",
      "text/plain": [
       "<matplotlib.figure.Figure at 0x50acc88>"
      ]
     },
     "metadata": {},
     "output_type": "display_data"
    }
   ],
   "source": [
    "#配偶以及兄弟姐妹数\n",
    "sns.barplot(x=\"SibSp\", y=\"Survived\", data=train, palette='Set3')"
   ]
  },
  {
   "cell_type": "code",
   "execution_count": 6,
   "metadata": {
    "collapsed": false,
    "scrolled": true
   },
   "outputs": [
    {
     "data": {
      "text/plain": [
       "<matplotlib.axes._subplots.AxesSubplot at 0x1401f240>"
      ]
     },
     "execution_count": 6,
     "metadata": {},
     "output_type": "execute_result"
    },
    {
     "data": {
      "image/png": "[encoded data removed]",
      "text/plain": [
       "<matplotlib.figure.Figure at 0x50acc18>"
      ]
     },
     "metadata": {},
     "output_type": "display_data"
    }
   ],
   "source": [
    "#父母和子女数\n",
    "sns.barplot(x=\"Parch\", y=\"Survived\", data=train, palette='Set3')"
   ]
  },
  {
   "cell_type": "code",
   "execution_count": 7,
   "metadata": {
    "collapsed": false,
    "scrolled": true
   },
   "outputs": [
    {
     "data": {
      "text/plain": [
       "<seaborn.axisgrid.FacetGrid at 0x1416af60>"
      ]
     },
     "execution_count": 7,
     "metadata": {},
     "output_type": "execute_result"
    },
    {
     "data": {
      "image/png": "[encoded data removed]",
      "text/plain": [
       "<matplotlib.figure.Figure at 0x1416aa90>"
      ]
     },
     "metadata": {},
     "output_type": "display_data"
    }
   ],
   "source": [
    "#年龄分布和生存下来的关系    kdeplot核密度分布图\n",
    "facet = sns.FacetGrid(train, hue=\"Survived\",aspect=2)\n",
    "facet.map(sns.kdeplot,'Age',shade= True)\n",
    "facet.set(xlim=(0, train['Age'].max()))\n",
    "facet.add_legend()"
   ]
  },
  {
   "cell_type": "code",
   "execution_count": 8,
   "metadata": {
    "collapsed": false
   },
   "outputs": [
    {
     "data": {
      "text/plain": [
       "<seaborn.axisgrid.FacetGrid at 0x14205f60>"
      ]
     },
     "execution_count": 8,
     "metadata": {},
     "output_type": "execute_result"
    },
    {
     "data": {
      "image/png": "[encoded data removed]",
      "text/plain": [
       "<matplotlib.figure.Figure at 0x140adb00>"
      ]
     },
     "metadata": {},
     "output_type": "display_data"
    }
   ],
   "source": [
    "#船费和生存下来的关系\n",
    "facet = sns.FacetGrid(train, hue=\"Survived\",aspect=2)\n",
    "facet.map(sns.kdeplot,'Fare',shade= True)\n",
    "facet.set(xlim=(0, 200))\n",
    "facet.add_legend()"
   ]
  },
  {
   "cell_type": "code",
   "execution_count": 9,
   "metadata": {
    "collapsed": false
   },
   "outputs": [
    {
     "data": {
      "text/plain": [
       "<matplotlib.axes._subplots.AxesSubplot at 0x143466a0>"
      ]
     },
     "execution_count": 9,
     "metadata": {},
     "output_type": "execute_result"
    },
    {
     "data": {
      "image/png": "[encoded data removed]",
      "text/plain": [
       "<matplotlib.figure.Figure at 0x14346e10>"
      ]
     },
     "metadata": {},
     "output_type": "display_data"
    }
   ],
   "source": [
    "#姓名中的称呼和生存下来的关系\n",
    "all_data['Title'] = all_data['Name'].apply(lambda x:x.split(',')[1].split('.')[0].strip())\n",
    "Title_Dict = {}\n",
    "Title_Dict.update(dict.fromkeys(['Capt', 'Col', 'Major', 'Dr', 'Rev'], 'Officer'))\n",
    "Title_Dict.update(dict.fromkeys(['Don', 'Sir', 'the Countess', 'Dona', 'Lady'], 'Royalty'))\n",
    "Title_Dict.update(dict.fromkeys(['Mme', 'Ms', 'Mrs'], 'Mrs'))\n",
    "Title_Dict.update(dict.fromkeys(['Mlle', 'Miss'], 'Miss'))\n",
    "Title_Dict.update(dict.fromkeys(['Mr'], 'Mr'))\n",
    "Title_Dict.update(dict.fromkeys(['Master','Jonkheer'], 'Master'))\n",
    "all_data['Title'] = all_data['Title'].map(Title_Dict)\n",
    "sns.barplot(x=\"Title\", y=\"Survived\", data=all_data, palette='Set3')"
   ]
  },
  {
   "cell_type": "code",
   "execution_count": 10,
   "metadata": {
    "collapsed": false
   },
   "outputs": [
    {
     "data": {
      "text/plain": [
       "<matplotlib.axes._subplots.AxesSubplot at 0x13f34cc0>"
      ]
     },
     "execution_count": 10,
     "metadata": {},
     "output_type": "execute_result"
    },
    {
     "data": {
      "image/png": "[encoded data removed]",
      "text/plain": [
       "<matplotlib.figure.Figure at 0x142deda0>"
      ]
     },
     "metadata": {},
     "output_type": "display_data"
    }
   ],
   "source": [
    "#将SibSp和Parch两个参数汇总，家庭成员和生存下来的关系\n",
    "all_data['FamilySize']=all_data['SibSp']+all_data['Parch']+1\n",
    "sns.barplot(x=\"FamilySize\", y=\"Survived\", data=all_data, palette='Set3')"
   ]
  },
  {
   "cell_type": "code",
   "execution_count": 11,
   "metadata": {
    "collapsed": false
   },
   "outputs": [
    {
     "data": {
      "text/plain": [
       "<matplotlib.axes._subplots.AxesSubplot at 0x14338978>"
      ]
     },
     "execution_count": 11,
     "metadata": {},
     "output_type": "execute_result"
    },
    {
     "data": {
      "image/png": "[encoded data removed]",
      "text/plain": [
       "<matplotlib.figure.Figure at 0x14399320>"
      ]
     },
     "metadata": {},
     "output_type": "display_data"
    }
   ],
   "source": [
    "#将家庭成员分为三类\n",
    "def Fam_label(s):\n",
    "    if (s >= 2) & (s <= 4):\n",
    "        return 2\n",
    "    elif ((s > 4) & (s <= 7)) | (s == 1):\n",
    "        return 1\n",
    "    elif (s > 7):\n",
    "        return 0\n",
    "all_data['FamilyLabel']=all_data['FamilySize'].apply(Fam_label)\n",
    "sns.barplot(x=\"FamilyLabel\", y=\"Survived\", data=all_data, palette='Set3')"
   ]
  },
  {
   "cell_type": "code",
   "execution_count": 12,
   "metadata": {
    "collapsed": false
   },
   "outputs": [
    {
     "data": {
      "text/plain": [
       "<matplotlib.axes._subplots.AxesSubplot at 0x143af748>"
      ]
     },
     "execution_count": 12,
     "metadata": {},
     "output_type": "execute_result"
    },
    {
     "data": {
      "image/png": "[encoded data removed]",
      "text/plain": [
       "<matplotlib.figure.Figure at 0x1440fe48>"
      ]
     },
     "metadata": {},
     "output_type": "display_data"
    }
   ],
   "source": [
    "#不同船舱与生存下来的关系，\n",
    "all_data['Cabin'] = all_data['Cabin'].fillna('Unknown')     #使用Unknown填充缺失值\n",
    "all_data['Deck']=all_data['Cabin'].str.get(0)\n",
    "sns.barplot(x=\"Deck\", y=\"Survived\", data=all_data, palette='Set3')\n",
    "#all_data['Cabin']"
   ]
  },
  {
   "cell_type": "code",
   "execution_count": 13,
   "metadata": {
    "collapsed": false
   },
   "outputs": [
    {
     "data": {
      "text/plain": [
       "<matplotlib.axes._subplots.AxesSubplot at 0x144e4240>"
      ]
     },
     "execution_count": 13,
     "metadata": {},
     "output_type": "execute_result"
    },
    {
     "data": {
      "image/png": "[encoded data removed]",
      "text/plain": [
       "<matplotlib.figure.Figure at 0x144eeb70>"
      ]
     },
     "metadata": {},
     "output_type": "display_data"
    }
   ],
   "source": [
    "#船票有一样的，设置团队票与生存下来的关系\n",
    "Ticket_Count = dict(all_data['Ticket'].value_counts())\n",
    "all_data['TicketGroup'] = all_data['Ticket'].apply(lambda x:Ticket_Count[x])\n",
    "sns.barplot(x='TicketGroup', y='Survived', data=all_data, palette='Set3')"
   ]
  },
  {
   "cell_type": "code",
   "execution_count": 14,
   "metadata": {
    "collapsed": false
   },
   "outputs": [
    {
     "data": {
      "text/plain": [
       "<matplotlib.axes._subplots.AxesSubplot at 0x145eea20>"
      ]
     },
     "execution_count": 14,
     "metadata": {},
     "output_type": "execute_result"
    },
    {
     "data": {
      "image/png": "[encoded data removed]",
      "text/plain": [
       "<matplotlib.figure.Figure at 0x145e22b0>"
      ]
     },
     "metadata": {},
     "output_type": "display_data"
    }
   ],
   "source": [
    "#将团队生存设置等级\n",
    "def Ticket_Label(s):\n",
    "    if (s >= 2) & (s <= 4):\n",
    "        return 2\n",
    "    elif ((s > 4) & (s <= 8)) | (s == 1):\n",
    "        return 1\n",
    "    elif (s > 8):\n",
    "        return 0\n",
    "\n",
    "all_data['TicketGroup'] = all_data['TicketGroup'].apply(Ticket_Label)\n",
    "sns.barplot(x='TicketGroup', y='Survived', data=all_data, palette='Set3')"
   ]
  },
  {
   "cell_type": "markdown",
   "metadata": {},
   "source": [
    "# 4.数据清洗"
   ]
  },
  {
   "cell_type": "code",
   "execution_count": 15,
   "metadata": {
    "collapsed": true
   },
   "outputs": [],
   "source": [
    "#使用随机森林回归填充Age缺失值\n",
    "age_df = all_data[['Age', 'Pclass','Sex','Title']]\n",
    "age_df=pd.get_dummies(age_df)\n",
    "known_age = age_df[age_df.Age.notnull()].as_matrix()\n",
    "unknown_age = age_df[age_df.Age.isnull()].as_matrix()\n",
    "y = known_age[:, 0]\n",
    "X = known_age[:, 1:]\n",
    "rfr = RandomForestRegressor(random_state=0, n_estimators=100, n_jobs=-1)\n",
    "rfr.fit(X, y)\n",
    "predictedAges = rfr.predict(unknown_age[:, 1::])\n",
    "all_data.loc[ (all_data.Age.isnull()), 'Age' ] = predictedAges "
   ]
  },
  {
   "cell_type": "code",
   "execution_count": 16,
   "metadata": {
    "collapsed": false
   },
   "outputs": [
    {
     "data": {
      "text/html": [
       "<div>\n",
       "<table border=\"1\" class=\"dataframe\">\n",
       "  <thead>\n",
       "    <tr style=\"text-align: right;\">\n",
       "      <th></th>\n",
       "      <th>Age</th>\n",
       "      <th>Cabin</th>\n",
       "      <th>Embarked</th>\n",
       "      <th>Fare</th>\n",
       "      <th>Name</th>\n",
       "      <th>Parch</th>\n",
       "      <th>PassengerId</th>\n",
       "      <th>Pclass</th>\n",
       "      <th>Sex</th>\n",
       "      <th>SibSp</th>\n",
       "      <th>Survived</th>\n",
       "      <th>Ticket</th>\n",
       "      <th>Title</th>\n",
       "      <th>FamilySize</th>\n",
       "      <th>FamilyLabel</th>\n",
       "      <th>Deck</th>\n",
       "      <th>TicketGroup</th>\n",
       "    </tr>\n",
       "  </thead>\n",
       "  <tbody>\n",
       "    <tr>\n",
       "      <th>61</th>\n",
       "      <td>38.0</td>\n",
       "      <td>B28</td>\n",
       "      <td>NaN</td>\n",
       "      <td>80.0</td>\n",
       "      <td>Icard, Miss. Amelie</td>\n",
       "      <td>0</td>\n",
       "      <td>62</td>\n",
       "      <td>1</td>\n",
       "      <td>female</td>\n",
       "      <td>0</td>\n",
       "      <td>1.0</td>\n",
       "      <td>113572</td>\n",
       "      <td>Miss</td>\n",
       "      <td>1</td>\n",
       "      <td>1</td>\n",
       "      <td>B</td>\n",
       "      <td>2</td>\n",
       "    </tr>\n",
       "    <tr>\n",
       "      <th>829</th>\n",
       "      <td>62.0</td>\n",
       "      <td>B28</td>\n",
       "      <td>NaN</td>\n",
       "      <td>80.0</td>\n",
       "      <td>Stone, Mrs. George Nelson (Martha Evelyn)</td>\n",
       "      <td>0</td>\n",
       "      <td>830</td>\n",
       "      <td>1</td>\n",
       "      <td>female</td>\n",
       "      <td>0</td>\n",
       "      <td>1.0</td>\n",
       "      <td>113572</td>\n",
       "      <td>Mrs</td>\n",
       "      <td>1</td>\n",
       "      <td>1</td>\n",
       "      <td>B</td>\n",
       "      <td>2</td>\n",
       "    </tr>\n",
       "  </tbody>\n",
       "</table>\n",
       "</div>"
      ],
      "text/plain": [
       "      Age Cabin Embarked  Fare                                       Name  \\\n",
       "61   38.0   B28      NaN  80.0                        Icard, Miss. Amelie   \n",
       "829  62.0   B28      NaN  80.0  Stone, Mrs. George Nelson (Martha Evelyn)   \n",
       "\n",
       "     Parch  PassengerId  Pclass     Sex  SibSp  Survived  Ticket Title  \\\n",
       "61       0           62       1  female      0       1.0  113572  Miss   \n",
       "829      0          830       1  female      0       1.0  113572   Mrs   \n",
       "\n",
       "     FamilySize  FamilyLabel Deck  TicketGroup  \n",
       "61            1            1    B            2  \n",
       "829           1            1    B            2  "
      ]
     },
     "execution_count": 16,
     "metadata": {},
     "output_type": "execute_result"
    }
   ],
   "source": [
    "#查看登录港口缺失值\n",
    "all_data[all_data['Embarked'].isnull()]"
   ]
  },
  {
   "cell_type": "code",
   "execution_count": 17,
   "metadata": {
    "collapsed": false
   },
   "outputs": [
    {
     "data": {
      "text/plain": [
       "<matplotlib.axes._subplots.AxesSubplot at 0x146439e8>"
      ]
     },
     "execution_count": 17,
     "metadata": {},
     "output_type": "execute_result"
    },
    {
     "data": {
      "image/png": "[encoded data removed]",
      "text/plain": [
       "<matplotlib.figure.Figure at 0x13f34240>"
      ]
     },
     "metadata": {},
     "output_type": "display_data"
    }
   ],
   "source": [
    "sns.boxplot(x=\"Embarked\", y=\"Fare\", hue=\"Pclass\",data=all_data, palette=\"Set3\")"
   ]
  },
  {
   "cell_type": "code",
   "execution_count": 18,
   "metadata": {
    "collapsed": true
   },
   "outputs": [],
   "source": [
    "all_data['Embarked'] = all_data['Embarked'].fillna('C')"
   ]
  },
  {
   "cell_type": "code",
   "execution_count": 19,
   "metadata": {
    "collapsed": false
   },
   "outputs": [
    {
     "data": {
      "text/html": [
       "<div>\n",
       "<table border=\"1\" class=\"dataframe\">\n",
       "  <thead>\n",
       "    <tr style=\"text-align: right;\">\n",
       "      <th></th>\n",
       "      <th>Age</th>\n",
       "      <th>Cabin</th>\n",
       "      <th>Embarked</th>\n",
       "      <th>Fare</th>\n",
       "      <th>Name</th>\n",
       "      <th>Parch</th>\n",
       "      <th>PassengerId</th>\n",
       "      <th>Pclass</th>\n",
       "      <th>Sex</th>\n",
       "      <th>SibSp</th>\n",
       "      <th>Survived</th>\n",
       "      <th>Ticket</th>\n",
       "      <th>Title</th>\n",
       "      <th>FamilySize</th>\n",
       "      <th>FamilyLabel</th>\n",
       "      <th>Deck</th>\n",
       "      <th>TicketGroup</th>\n",
       "    </tr>\n",
       "  </thead>\n",
       "  <tbody>\n",
       "    <tr>\n",
       "      <th>1043</th>\n",
       "      <td>60.5</td>\n",
       "      <td>Unknown</td>\n",
       "      <td>S</td>\n",
       "      <td>NaN</td>\n",
       "      <td>Storey, Mr. Thomas</td>\n",
       "      <td>0</td>\n",
       "      <td>1044</td>\n",
       "      <td>3</td>\n",
       "      <td>male</td>\n",
       "      <td>0</td>\n",
       "      <td>NaN</td>\n",
       "      <td>3701</td>\n",
       "      <td>Mr</td>\n",
       "      <td>1</td>\n",
       "      <td>1</td>\n",
       "      <td>U</td>\n",
       "      <td>1</td>\n",
       "    </tr>\n",
       "  </tbody>\n",
       "</table>\n",
       "</div>"
      ],
      "text/plain": [
       "       Age    Cabin Embarked  Fare                Name  Parch  PassengerId  \\\n",
       "1043  60.5  Unknown        S   NaN  Storey, Mr. Thomas      0         1044   \n",
       "\n",
       "      Pclass   Sex  SibSp  Survived Ticket Title  FamilySize  FamilyLabel  \\\n",
       "1043       3  male      0       NaN   3701    Mr           1            1   \n",
       "\n",
       "     Deck  TicketGroup  \n",
       "1043    U            1  "
      ]
     },
     "execution_count": 19,
     "metadata": {},
     "output_type": "execute_result"
    }
   ],
   "source": [
    "#查看费用缺失值\n",
    "all_data[all_data['Fare'].isnull()]"
   ]
  },
  {
   "cell_type": "code",
   "execution_count": 20,
   "metadata": {
    "collapsed": true
   },
   "outputs": [],
   "source": [
    "fare=all_data[(all_data['Embarked'] == \"S\") & (all_data['Pclass'] == 3)].Fare.median()\n",
    "all_data['Fare']=all_data['Fare'].fillna(fare)"
   ]
  },
  {
   "cell_type": "code",
   "execution_count": 21,
   "metadata": {
    "collapsed": true
   },
   "outputs": [],
   "source": [
    "#将姓氏相同的化为一组，分别提取出每组中的妇女，儿童和成年男性\n",
    "all_data['Surname']=all_data['Name'].apply(lambda x:x.split(',')[0].strip())\n",
    "Surname_Count = dict(all_data['Surname'].value_counts())\n",
    "all_data['FamilyGroup'] = all_data['Surname'].apply(lambda x:Surname_Count[x])\n",
    "Female_Child_Group=all_data.loc[(all_data['FamilyGroup']>=2) & ((all_data['Age']<=12) | (all_data['Sex']=='female'))]\n",
    "Male_Adult_Group=all_data.loc[(all_data['FamilyGroup']>=2) & (all_data['Age']>12) & (all_data['Sex']=='male')]"
   ]
  },
  {
   "cell_type": "code",
   "execution_count": 22,
   "metadata": {
    "collapsed": false
   },
   "outputs": [
    {
     "data": {
      "text/html": [
       "<div>\n",
       "<table border=\"1\" class=\"dataframe\">\n",
       "  <thead>\n",
       "    <tr style=\"text-align: right;\">\n",
       "      <th></th>\n",
       "      <th>GroupCount</th>\n",
       "    </tr>\n",
       "  </thead>\n",
       "  <tbody>\n",
       "    <tr>\n",
       "      <th>1.000000</th>\n",
       "      <td>115</td>\n",
       "    </tr>\n",
       "    <tr>\n",
       "      <th>0.000000</th>\n",
       "      <td>31</td>\n",
       "    </tr>\n",
       "    <tr>\n",
       "      <th>0.750000</th>\n",
       "      <td>2</td>\n",
       "    </tr>\n",
       "    <tr>\n",
       "      <th>0.333333</th>\n",
       "      <td>1</td>\n",
       "    </tr>\n",
       "    <tr>\n",
       "      <th>0.142857</th>\n",
       "      <td>1</td>\n",
       "    </tr>\n",
       "  </tbody>\n",
       "</table>\n",
       "</div>"
      ],
      "text/plain": [
       "          GroupCount\n",
       "1.000000         115\n",
       "0.000000          31\n",
       "0.750000           2\n",
       "0.333333           1\n",
       "0.142857           1"
      ]
     },
     "execution_count": 22,
     "metadata": {},
     "output_type": "execute_result"
    }
   ],
   "source": [
    "Female_Child=pd.DataFrame(Female_Child_Group.groupby('Surname')['Survived'].mean().value_counts())\n",
    "Female_Child.columns=['GroupCount']\n",
    "Female_Child"
   ]
  },
  {
   "cell_type": "code",
   "execution_count": 23,
   "metadata": {
    "collapsed": false
   },
   "outputs": [
    {
     "data": {
      "text/plain": [
       "<matplotlib.text.Text at 0x148468d0>"
      ]
     },
     "execution_count": 23,
     "metadata": {},
     "output_type": "execute_result"
    },
    {
     "data": {
      "image/png": "[encoded data removed]",
      "text/plain": [
       "<matplotlib.figure.Figure at 0x14858080>"
      ]
     },
     "metadata": {},
     "output_type": "display_data"
    }
   ],
   "source": [
    "sns.barplot(x=Female_Child.index, y=Female_Child[\"GroupCount\"], palette='Set3').set_xlabel('AverageSurvived')"
   ]
  },
  {
   "cell_type": "code",
   "execution_count": 24,
   "metadata": {
    "collapsed": false
   },
   "outputs": [
    {
     "data": {
      "text/html": [
       "<div>\n",
       "<table border=\"1\" class=\"dataframe\">\n",
       "  <thead>\n",
       "    <tr style=\"text-align: right;\">\n",
       "      <th></th>\n",
       "      <th>GroupCount</th>\n",
       "    </tr>\n",
       "  </thead>\n",
       "  <tbody>\n",
       "    <tr>\n",
       "      <th>0.000000</th>\n",
       "      <td>122</td>\n",
       "    </tr>\n",
       "    <tr>\n",
       "      <th>1.000000</th>\n",
       "      <td>20</td>\n",
       "    </tr>\n",
       "    <tr>\n",
       "      <th>0.500000</th>\n",
       "      <td>6</td>\n",
       "    </tr>\n",
       "    <tr>\n",
       "      <th>0.333333</th>\n",
       "      <td>2</td>\n",
       "    </tr>\n",
       "    <tr>\n",
       "      <th>0.250000</th>\n",
       "      <td>1</td>\n",
       "    </tr>\n",
       "  </tbody>\n",
       "</table>\n",
       "</div>"
      ],
      "text/plain": [
       "          GroupCount\n",
       "0.000000         122\n",
       "1.000000          20\n",
       "0.500000           6\n",
       "0.333333           2\n",
       "0.250000           1"
      ]
     },
     "execution_count": 24,
     "metadata": {},
     "output_type": "execute_result"
    }
   ],
   "source": [
    "Male_Adult=pd.DataFrame(Male_Adult_Group.groupby('Surname')['Survived'].mean().value_counts())\n",
    "Male_Adult.columns=['GroupCount']\n",
    "Male_Adult"
   ]
  },
  {
   "cell_type": "code",
   "execution_count": 25,
   "metadata": {
    "collapsed": false
   },
   "outputs": [
    {
     "data": {
      "text/plain": [
       "<matplotlib.text.Text at 0x14882c50>"
      ]
     },
     "execution_count": 25,
     "metadata": {},
     "output_type": "execute_result"
    },
    {
     "data": {
      "image/png": "[encoded data removed]",
      "text/plain": [
       "<matplotlib.figure.Figure at 0x14911f98>"
      ]
     },
     "metadata": {},
     "output_type": "display_data"
    }
   ],
   "source": [
    "sns.barplot(x=Male_Adult.index, y=Male_Adult['GroupCount'], palette='Set3').set_xlabel('AverageSurvived')"
   ]
  },
  {
   "cell_type": "code",
   "execution_count": 26,
   "metadata": {
    "collapsed": false
   },
   "outputs": [
    {
     "name": "stdout",
     "output_type": "stream",
     "text": [
      "{'Bourke', 'Palsson', 'Strom', 'Olsson', 'Lobb', 'Rosblom', 'Attalah', 'Lahtinen', 'Caram', 'Panula', 'Ilmakangas', 'Jussila', 'Zabour', 'Barbara', 'Goodwin', 'Sage', 'Turpin', 'Rice', 'Oreskovic', 'Skoog', 'Danbom', 'Van Impe', 'Robins', 'Lefebre', 'Vander Planke', 'Boulos', 'Johnston', 'Arnold-Franchi', 'Cacic', 'Ford', 'Canavan'}\n",
      "{'Taylor', 'Goldenberg', 'Kimball', 'Jussila', 'Bradley', 'Beckwith', 'Bishop', 'Jonsson', 'Frolicher-Stehli', 'Daly', 'Chambers', 'Beane', 'Dick', 'Frauenthal', 'Nakid', 'McCoy', 'Cardeza', 'Duff Gordon', 'Greenfield', 'Harder'}\n"
     ]
    }
   ],
   "source": [
    "#普遍规律是女性和儿童幸存率高，成年男性幸存较低，所以我们把不符合普遍规律的反常组选出来单独处理\n",
    "#把女性和儿童组中幸存率为0的组设置为遇难组，把成年男性组中存活率为1的设置为幸存组\n",
    "Female_Child_Group=Female_Child_Group.groupby('Surname')['Survived'].mean()\n",
    "Dead_List=set(Female_Child_Group[Female_Child_Group.apply(lambda x:x==0)].index)\n",
    "print(Dead_List)\n",
    "Male_Adult_List=Male_Adult_Group.groupby('Surname')['Survived'].mean()\n",
    "Survived_List=set(Male_Adult_List[Male_Adult_List.apply(lambda x:x==1)].index)\n",
    "print(Survived_List)"
   ]
  },
  {
   "cell_type": "code",
   "execution_count": 27,
   "metadata": {
    "collapsed": true
   },
   "outputs": [],
   "source": [
    "#对测试集中处于反常组中的样本的Age，Title，Sex进行惩罚修改。\n",
    "train=all_data.loc[all_data['Survived'].notnull()]\n",
    "test=all_data.loc[all_data['Survived'].isnull()]\n",
    "test.loc[(test['Surname'].apply(lambda x:x in Dead_List)),'Sex'] = 'male'\n",
    "test.loc[(test['Surname'].apply(lambda x:x in Dead_List)),'Age'] = 60\n",
    "test.loc[(test['Surname'].apply(lambda x:x in Dead_List)),'Title'] = 'Mr'\n",
    "test.loc[(test['Surname'].apply(lambda x:x in Survived_List)),'Sex'] = 'female'\n",
    "test.loc[(test['Surname'].apply(lambda x:x in Survived_List)),'Age'] = 5\n",
    "test.loc[(test['Surname'].apply(lambda x:x in Survived_List)),'Title'] = 'Miss'"
   ]
  },
  {
   "cell_type": "code",
   "execution_count": 28,
   "metadata": {
    "collapsed": false
   },
   "outputs": [],
   "source": [
    "#特征转换，选取特征，转换为数值变量\n",
    "all_data=pd.concat([train, test])\n",
    "all_data=all_data[['Survived','Pclass','Sex','Age','Fare','Embarked','Title','FamilyLabel','Deck','TicketGroup']]\n",
    "all_data=pd.get_dummies(all_data)\n",
    "train=all_data[all_data['Survived'].notnull()]\n",
    "test=all_data[all_data['Survived'].isnull()].drop('Survived',axis=1)\n",
    "X = train.as_matrix()[:,1:]\n",
    "y = train.as_matrix()[:,0]"
   ]
  },
  {
   "cell_type": "markdown",
   "metadata": {},
   "source": [
    "# 5.建模和优化"
   ]
  },
  {
   "cell_type": "code",
   "execution_count": 29,
   "metadata": {
    "collapsed": false
   },
   "outputs": [
    {
     "name": "stdout",
     "output_type": "stream",
     "text": [
      "{'classify__max_depth': 6, 'classify__n_estimators': 42} 0.8810963508395343\n"
     ]
    }
   ],
   "source": [
    "#参数优化\n",
    "pipe=Pipeline([('select',SelectKBest(k=20)), \n",
    "               ('classify', RandomForestClassifier(random_state = 10, max_features = 'sqrt'))])\n",
    "\n",
    "param_test = {'classify__n_estimators':list(range(20,50,2)), \n",
    "              'classify__max_depth':list(range(3,60,3))}\n",
    "gsearch = GridSearchCV(estimator = pipe, param_grid = param_test, scoring='roc_auc', cv=10)\n",
    "gsearch.fit(X,y)\n",
    "print(gsearch.best_params_, gsearch.best_score_)"
   ]
  },
  {
   "cell_type": "code",
   "execution_count": 30,
   "metadata": {
    "collapsed": false
   },
   "outputs": [
    {
     "data": {
      "text/plain": [
       "Pipeline(steps=[('selectkbest', SelectKBest(k=20, score_func=<function f_classif at 0x0000000010B1C268>)), ('randomforestclassifier', RandomForestClassifier(bootstrap=True, class_weight=None, criterion='gini',\n",
       "            max_depth=6, max_features='sqrt', max_leaf_nodes=None,\n",
       "            min_impurity_split=1...estimators=26, n_jobs=1, oob_score=False, random_state=10,\n",
       "            verbose=0, warm_start=True))])"
      ]
     },
     "execution_count": 30,
     "metadata": {},
     "output_type": "execute_result"
    }
   ],
   "source": [
    "#训练模型\n",
    "select = SelectKBest(k = 20)\n",
    "clf = RandomForestClassifier(random_state = 10, warm_start = True, \n",
    "                                  n_estimators = 26,\n",
    "                                  max_depth = 6, \n",
    "                                  max_features = 'sqrt')\n",
    "pipeline = make_pipeline(select, clf)\n",
    "pipeline.fit(X, y)"
   ]
  },
  {
   "cell_type": "code",
   "execution_count": 31,
   "metadata": {
    "collapsed": false
   },
   "outputs": [
    {
     "name": "stdout",
     "output_type": "stream",
     "text": [
      "CV Score : Mean - 0.8451402 | Std - 0.03276752 \n"
     ]
    }
   ],
   "source": [
    "#交叉验证\n",
    "cv_score = cross_validation.cross_val_score(pipeline, X, y, cv= 10)\n",
    "print(\"CV Score : Mean - %.7g | Std - %.7g \" % (np.mean(cv_score), np.std(cv_score)))"
   ]
  },
  {
   "cell_type": "markdown",
   "metadata": {},
   "source": [
    "# 6.预测"
   ]
  },
  {
   "cell_type": "code",
   "execution_count": 32,
   "metadata": {
    "collapsed": true
   },
   "outputs": [],
   "source": [
    "#预测\n",
    "predictions = pipeline.predict(test)\n",
    "submission = pd.DataFrame({\"PassengerId\": PassengerId, \"Survived\": predictions.astype(np.int32)})\n",
    "submission.to_csv(\"../out/submission.csv\", index=False)"
   ]
  },
  {
   "cell_type": "code",
   "execution_count": null,
   "metadata": {
    "collapsed": true
   },
   "outputs": [],
   "source": []
  },
  {
   "cell_type": "code",
   "execution_count": null,
   "metadata": {
    "collapsed": true
   },
   "outputs": [],
   "source": []
  }
 ],
 "metadata": {
  "kernelspec": {
   "display_name": "Python 3",
   "language": "python",
   "name": "python3"
  },
  "language_info": {
   "codemirror_mode": {
    "name": "ipython",
    "version": 3
   },
   "file_extension": ".py",
   "mimetype": "text/x-python",
   "name": "python",
   "nbconvert_exporter": "python",
   "pygments_lexer": "ipython3",
   "version": "3.6.0"
  }
 },
 "nbformat": 4,
 "nbformat_minor": 2
}
