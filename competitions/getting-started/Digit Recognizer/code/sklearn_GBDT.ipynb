{
 "cells": [
  {
   "cell_type": "code",
   "execution_count": 1,
   "metadata": {
    "collapsed": true
   },
   "outputs": [],
   "source": [
    "import numpy as np\n",
    "import pandas as pd\n",
    "import datetime\n",
    "\n",
    "import matplotlib.pyplot as plt\n",
    "from sklearn import metrics \n",
    "from sklearn.ensemble import GradientBoostingClassifier\n",
    "from sklearn.model_selection import train_test_split,GridSearchCV\n",
    "from sklearn.decomposition import PCA\n",
    "from sklearn.metrics import accuracy_score,roc_auc_score \n",
    "\n",
    "%matplotlib inline"
   ]
  },
  {
   "cell_type": "code",
   "execution_count": 2,
   "metadata": {
    "collapsed": true
   },
   "outputs": [],
   "source": [
    "#load data\n",
    "train_data=pd.read_csv(r'../data/train.csv')\n",
    "test_data=pd.read_csv(r'../data/test.csv')"
   ]
  },
  {
   "cell_type": "code",
   "execution_count": 3,
   "metadata": {
    "collapsed": false
   },
   "outputs": [
    {
     "name": "stderr",
     "output_type": "stream",
     "text": [
      "/usr/local/lib/python3.5/dist-packages/ipykernel_launcher.py:2: FutureWarning: Sorting because non-concatenation axis is not aligned. A future version\n",
      "of pandas will change to not sort by default.\n",
      "\n",
      "To accept the future behavior, pass 'sort=False'.\n",
      "\n",
      "To retain the current behavior and silence the warning, pass 'sort=True'.\n",
      "\n",
      "  \n"
     ]
    }
   ],
   "source": [
    "#按行连接起来\n",
    "data=pd.concat([train_data,test_data],axis=0).reset_index(drop=True)\n",
    "#删除data中的label列\n",
    "data.drop(['label'],axis=1,inplace=True)\n",
    "label=train_data.label\n",
    "\n",
    "#PCA处理\n",
    "pca=PCA(n_components=35, random_state=1)\n",
    "data_pca=pca.fit_transform(data)\n",
    "#定义交叉验证\n",
    "Xtrain,Ytrain,xlabel,ylabel=train_test_split(data_pca[0:len(train_data)],label,test_size=0.1, random_state=34)"
   ]
  },
  {
   "cell_type": "code",
   "execution_count": null,
   "metadata": {
    "collapsed": true
   },
   "outputs": [],
   "source": [
    "#使用默认参数尝试分类\n",
    "gbm0 = GradientBoostingClassifier(random_state=10)\n",
    "gbm0.fit(Xtrain,xlabel)\n",
    "y_pred = gbm0.predict(Ytrain)\n",
    "y_predprob = gbm0.predict_proba(Ytrain)\n",
    "print(\"Accuracy:%.4g\"%gbm0.score(Ytrain,ylabel))\n",
    "print(\"Accuracy: %.4g\"%accuracy_score(ylabel,y_pred))"
   ]
  },
  {
   "cell_type": "code",
   "execution_count": null,
   "metadata": {
    "collapsed": true
   },
   "outputs": [],
   "source": [
    "#分析基分类器个数n_estimators\n",
    "starttime = datetime.datetime.now()\n",
    "param_test1 = {'n_estimators':range(20,81,10)}\n",
    "gsearch1 = GridSearchCV(estimator = GradientBoostingClassifier(learning_rate=0.1, min_samples_split=300,\n",
    "                                  min_samples_leaf=20,max_depth=8,max_features='sqrt', subsample=0.8,random_state=10), \n",
    "                       param_grid = param_test1, cv=5)\n",
    "gsearch1.fit(Xtrain,xlabel)\n",
    "\n",
    "print(gsearch1.best_params_)\n",
    "print(gsearch1.best_score_)\n",
    "endtime = datetime.datetime.now()\n",
    "print ((endtime - starttime).seconds)"
   ]
  },
  {
   "cell_type": "code",
   "execution_count": null,
   "metadata": {
    "collapsed": true
   },
   "outputs": [],
   "source": [
    "#分析决策树的最大深度max_depth和内部节点再划分所需的最小样本数min_samples_split\n",
    "\n",
    "starttime = datetime.datetime.now()\n",
    "param_test2 = {'max_depth':range(3,14,2), 'min_samples_split':range(100,801,200)}\n",
    "gsearch2 = GridSearchCV(estimator = GradientBoostingClassifier(learning_rate=0.1, n_estimators=80, min_samples_leaf=20, \n",
    "                          max_features='sqrt', subsample=0.8, random_state=10), \n",
    "                       param_grid = param_test2,  cv=5)\n",
    "gsearch2.fit(Xtrain,xlabel)\n",
    "print(gsearch2.best_params_)\n",
    "print(gsearch2.best_score_)\n",
    "\n",
    "endtime = datetime.datetime.now()\n",
    "print ((endtime - starttime).seconds)"
   ]
  },
  {
   "cell_type": "code",
   "execution_count": null,
   "metadata": {
    "collapsed": true
   },
   "outputs": [],
   "source": [
    "#分析内部结点再划分所需的最小样本数min_samples_split和叶子节点最少样本书min_samples_leaf\n",
    "starttime = datetime.datetime.now()\n",
    "param_test3 = {'min_samples_leaf':range(60,101,10)}\n",
    "gsearch3 = GridSearchCV(estimator = GradientBoostingClassifier(learning_rate=0.1, n_estimators=80,max_depth=11,min_samples_split=100,\n",
    "                                     max_features='sqrt', subsample=0.8, random_state=10), \n",
    "                       param_grid = param_test3, cv=5)\n",
    "gsearch3.fit(Xtrain,xlabel)\n",
    "print(gsearch3.best_params_)\n",
    "print(gsearch3.best_score_)\n",
    "\n",
    "endtime = datetime.datetime.now()\n",
    "print ((endtime - starttime).seconds)"
   ]
  },
  {
   "cell_type": "code",
   "execution_count": null,
   "metadata": {
    "collapsed": true
   },
   "outputs": [],
   "source": [
    "#分析最大特征数max_features\n",
    "starttime = datetime.datetime.now()\n",
    "param_test4 = {'max_features':range(7,20,2)}\n",
    "gsearch4 = GridSearchCV(estimator = GradientBoostingClassifier(learning_rate=0.1, n_estimators=80,max_depth=11, min_samples_leaf =100, \n",
    "               min_samples_split =1200, subsample=0.8, random_state=10), \n",
    "                       param_grid = param_test4, cv=5)\n",
    "gsearch4.fit(Xtrain,xlabel)\n",
    "print(gsearch4.best_params_)\n",
    "print(gsearch4.best_score_)\n",
    "\n",
    "endtime = datetime.datetime.now()\n",
    "print ((endtime - starttime).seconds)"
   ]
  },
  {
   "cell_type": "code",
   "execution_count": null,
   "metadata": {
    "collapsed": true
   },
   "outputs": [],
   "source": [
    "#分析子采样subsample\n",
    "starttime = datetime.datetime.now()\n",
    "\n",
    "param_test5 = {'subsample':[0.6,0.7,0.75,0.8,0.85,0.9]}\n",
    "gsearch5 = GridSearchCV(estimator = GradientBoostingClassifier(learning_rate=0.1, n_estimators=80,max_depth=11, min_samples_leaf =100, \n",
    "               min_samples_split =1200, max_features=9, random_state=10), \n",
    "                       param_grid = param_test5, scoring='roc_auc',iid=False, cv=5)\n",
    "gsearch5.fit(Xtrain,xlabel)\n",
    "gsearch5.grid_scores_, gsearch5.best_params_, gsearch5.best_score_\n",
    "\n",
    "endtime = datetime.datetime.now()\n",
    "print ((endtime - starttime).seconds)"
   ]
  },
  {
   "cell_type": "code",
   "execution_count": null,
   "metadata": {
    "collapsed": true
   },
   "outputs": [],
   "source": [
    "starttime = datetime.datetime.now()\n",
    "\n",
    "gbm1 = GradientBoostingClassifier(learning_rate=0.1, n_estimators=80,max_depth=11, min_samples_leaf =100, \n",
    "               min_samples_split =1200, max_features='sqrt', subsample=0.8, random_state=10)\n",
    "gbm1.fit(Xtrain,xlabel)\n",
    "y_pred = gbm1.predict(Ytrain)\n",
    "y_predprob = gbm1.predict_proba(Ytrain)\n",
    "print(\"Accuracy:%.4g\"%gbm1.score(Ytrain,ylabel))\n",
    "print(\"Accuracy: %.4g\"%accuracy_score(ylabel,y_pred))\n",
    "\n",
    "endtime = datetime.datetime.now()\n",
    "print ((endtime - starttime).seconds)"
   ]
  },
  {
   "cell_type": "code",
   "execution_count": null,
   "metadata": {
    "collapsed": true
   },
   "outputs": [],
   "source": [
    "result=gbm1.predict(data_pca[len(train_data):])\n",
    "\n",
    "print('Saving...')\n",
    "with open('../out/sklearn_GBDT.csv', 'w') as writer:\n",
    "    writer.write('\"ImageId\",\"Label\"\\n')\n",
    "    count = 0\n",
    "    for p in result:\n",
    "        count += 1\n",
    "        writer.write(str(count) + ',\"' + str(p) + '\"\\n')"
   ]
  }
 ],
 "metadata": {
  "kernelspec": {
   "display_name": "Python 3",
   "language": "python",
   "name": "python3"
  },
  "language_info": {
   "codemirror_mode": {
    "name": "ipython",
    "version": 3
   },
   "file_extension": ".py",
   "mimetype": "text/x-python",
   "name": "python",
   "nbconvert_exporter": "python",
   "pygments_lexer": "ipython3",
   "version": "3.6.0"
  }
 },
 "nbformat": 4,
 "nbformat_minor": 2
}
