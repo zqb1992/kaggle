{
 "cells": [
  {
   "cell_type": "code",
   "execution_count": 1,
   "metadata": {
    "collapsed": true
   },
   "outputs": [],
   "source": [
    "import numpy as np\n",
    "import pandas as pd\n",
    "import matplotlib.pyplot as plt\n",
    "from sklearn.tree import DecisionTreeClassifier\n",
    "from sklearn.ensemble import AdaBoostClassifier\n",
    "from sklearn.model_selection import train_test_split\n",
    "from sklearn.decomposition import PCA\n",
    "%matplotlib inline"
   ]
  },
  {
   "cell_type": "code",
   "execution_count": 2,
   "metadata": {
    "collapsed": true
   },
   "outputs": [],
   "source": [
    "#load data\n",
    "train_data=pd.read_csv(r'../data/train.csv')\n",
    "test_data=pd.read_csv(r'../data/test.csv')"
   ]
  },
  {
   "cell_type": "code",
   "execution_count": null,
   "metadata": {
    "collapsed": true
   },
   "outputs": [],
   "source": [
    "#按行连接起来\n",
    "data=pd.concat([train_data,test_data],axis=0).reset_index(drop=True)\n",
    "#删除data中的label列\n",
    "data.drop(['label'],axis=1,inplace=True)\n",
    "label=train_data.label\n",
    "\n",
    "#PCA处理\n",
    "pca=PCA(n_components=35, random_state=1)\n",
    "data_pca=pca.fit_transform(data)\n",
    "#定义交叉验证\n",
    "Xtrain,Ytrain,xlabel,ylabel=train_test_split(data_pca[0:len(train_data)],label,test_size=0.1, random_state=34)"
   ]
  },
  {
   "cell_type": "code",
   "execution_count": null,
   "metadata": {
    "collapsed": false
   },
   "outputs": [],
   "source": [
    "import datetime\n",
    "starttime = datetime.datetime.now()\n",
    "\n",
    "adb = AdaBoostClassifier(DecisionTreeClassifier(max_depth=4),n_estimators=500)\n",
    "adb.fit(Xtrain,xlabel)\n",
    "print(adb.score(Ytrain,ylabel))"
   ]
  },
  {
   "cell_type": "code",
   "execution_count": null,
   "metadata": {
    "collapsed": false
   },
   "outputs": [],
   "source": [
    "result=adb.predict(data_pca[len(train_data):])\n",
    "\n",
    "print('Saving...')\n",
    "with open('../out/sklearn_adaboosting.csv', 'w') as writer:\n",
    "    writer.write('\"ImageId\",\"Label\"\\n')\n",
    "    count = 0\n",
    "    for p in result:\n",
    "        count += 1\n",
    "        writer.write(str(count) + ',\"' + str(p) + '\"\\n')\n",
    "        \n",
    "endtime = datetime.datetime.now()\n",
    "print ((endtime - starttime).seconds)"
   ]
  }
 ],
 "metadata": {
  "kernelspec": {
   "display_name": "Python 3",
   "language": "python",
   "name": "python3"
  },
  "language_info": {
   "codemirror_mode": {
    "name": "ipython",
    "version": 3
   },
   "file_extension": ".py",
   "mimetype": "text/x-python",
   "name": "python",
   "nbconvert_exporter": "python",
   "pygments_lexer": "ipython3",
   "version": "3.6.0"
  }
 },
 "nbformat": 4,
 "nbformat_minor": 2
}
