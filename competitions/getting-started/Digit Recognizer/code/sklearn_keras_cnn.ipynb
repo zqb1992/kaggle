{
 "cells": [
  {
   "cell_type": "code",
   "execution_count": 1,
   "metadata": {
    "collapsed": false
   },
   "outputs": [
    {
     "name": "stderr",
     "output_type": "stream",
     "text": [
      "Using TensorFlow backend.\n"
     ]
    }
   ],
   "source": [
    "import pandas as pd\n",
    "import numpy as np\n",
    "import matplotlib.pyplot as plt\n",
    "import matplotlib.image as mpimg\n",
    "import seaborn as sns\n",
    "#将那些用matplotlib绘制的图显示在页面里而不是弹出一个窗口\n",
    "%matplotlib inline   \n",
    "\n",
    "np.random.seed(2)\n",
    "\n",
    "from sklearn.model_selection import train_test_split\n",
    "from sklearn.metrics import confusion_matrix\n",
    "import itertools\n",
    "\n",
    "from keras.utils.np_utils import to_categorical # 转换成 one-hot-encoding\n",
    "from keras.models import Sequential\n",
    "from keras.layers import Dense, Dropout, Flatten, Conv2D, MaxPool2D\n",
    "from keras.optimizers import Adam, RMSprop\n",
    "from keras.preprocessing.image import ImageDataGenerator\n",
    "from keras.callbacks import ReduceLROnPlateau"
   ]
  },
  {
   "cell_type": "code",
   "execution_count": 2,
   "metadata": {
    "collapsed": true
   },
   "outputs": [],
   "source": [
    "# Load the data\n",
    "train = pd.read_csv(r'../data/train.csv')\n",
    "test = pd.read_csv(r'../data/test.csv')\n",
    "\n",
    "X_train = train.values[:,1:]\n",
    "Y_train = train.values[:,0]\n",
    "test=test.values"
   ]
  },
  {
   "cell_type": "code",
   "execution_count": 3,
   "metadata": {
    "collapsed": true
   },
   "outputs": [],
   "source": [
    "# Normalization\n",
    "X_train = X_train / 255.0\n",
    "test = test / 255.0"
   ]
  },
  {
   "cell_type": "code",
   "execution_count": 4,
   "metadata": {
    "collapsed": true
   },
   "outputs": [],
   "source": [
    "X_train = X_train.reshape(-1,28,28,1)\n",
    "test = test.reshape(-1,28,28,1)"
   ]
  },
  {
   "cell_type": "code",
   "execution_count": 5,
   "metadata": {
    "collapsed": true
   },
   "outputs": [],
   "source": [
    "Y_train = to_categorical(Y_train, num_classes = 10)"
   ]
  },
  {
   "cell_type": "code",
   "execution_count": 6,
   "metadata": {
    "collapsed": true
   },
   "outputs": [],
   "source": [
    "random_seed = 2\n",
    "X_train, X_val, Y_train, Y_val = train_test_split(X_train, Y_train, test_size = 0.1, random_state=random_seed)"
   ]
  },
  {
   "cell_type": "code",
   "execution_count": 7,
   "metadata": {
    "collapsed": true
   },
   "outputs": [],
   "source": [
    "model = Sequential()\n",
    "\n",
    "model.add(Conv2D(filters = 32, kernel_size = (5,5),padding = 'Same', \n",
    "                 activation ='relu', input_shape = (28,28,1)))\n",
    "model.add(Conv2D(filters = 32, kernel_size = (5,5),padding = 'Same', \n",
    "                 activation ='relu'))\n",
    "model.add(MaxPool2D(pool_size=(2,2)))\n",
    "model.add(Dropout(0.25))\n",
    "\n",
    "\n",
    "model.add(Conv2D(filters = 64, kernel_size = (3,3),padding = 'Same', \n",
    "                 activation ='relu'))\n",
    "model.add(Conv2D(filters = 64, kernel_size = (3,3),padding = 'Same', \n",
    "                 activation ='relu'))\n",
    "model.add(MaxPool2D(pool_size=(2,2), strides=(2,2)))\n",
    "model.add(Dropout(0.25))\n",
    "\n",
    "\n",
    "model.add(Flatten())\n",
    "model.add(Dense(256, activation = \"relu\"))\n",
    "model.add(Dropout(0.5))\n",
    "model.add(Dense(10, activation = \"softmax\"))"
   ]
  },
  {
   "cell_type": "code",
   "execution_count": 8,
   "metadata": {
    "collapsed": true
   },
   "outputs": [],
   "source": [
    "# Define the optimizer\n",
    "#optimizer = RMSprop(lr=0.001, rho=0.9, epsilon=1e-08, decay=0.0)"
   ]
  },
  {
   "cell_type": "code",
   "execution_count": 9,
   "metadata": {
    "collapsed": true
   },
   "outputs": [],
   "source": [
    "# Compile the model\n",
    "model.compile(optimizer = 'Adam' , loss = \"categorical_crossentropy\", metrics=[\"accuracy\"])"
   ]
  },
  {
   "cell_type": "code",
   "execution_count": 10,
   "metadata": {
    "collapsed": true
   },
   "outputs": [],
   "source": [
    "epochs = 30 \n",
    "batch_size = 86"
   ]
  },
  {
   "cell_type": "code",
   "execution_count": 11,
   "metadata": {
    "collapsed": true
   },
   "outputs": [],
   "source": [
    "# Set a learning rate annealer\n",
    "learning_rate_reduction = ReduceLROnPlateau(monitor='val_acc', \n",
    "                                            patience=3, \n",
    "                                            verbose=1, \n",
    "                                            factor=0.5, \n",
    "                                            min_lr=0.00001)"
   ]
  },
  {
   "cell_type": "code",
   "execution_count": 12,
   "metadata": {
    "collapsed": true
   },
   "outputs": [],
   "source": [
    "datagen = ImageDataGenerator(\n",
    "        featurewise_center=False,  # 使输入数据集去中心化（均值为0）, 按feature执行\n",
    "        samplewise_center=False,  # 使输入数据的每个样本均值为0\n",
    "        featurewise_std_normalization=False,  # 将输入除以数据集的标准差以完成标准化, 按feature执行\n",
    "        samplewise_std_normalization=False,  # 将输入的每个样本除以其自身的标准差\n",
    "        zca_whitening=False,  # 对输入数据施加ZCA白化\n",
    "        rotation_range=10,  # 数据增强时图片随机转动的角度\n",
    "        zoom_range = 0.1, # 随机缩放的幅度\n",
    "        width_shift_range=0.1,  # 图片宽度的某个比例，数据增强时图片水平偏移的幅度\n",
    "        height_shift_range=0.1,  # 图片高度的某个比例，数据增强时图片竖直偏移的幅度\n",
    "        horizontal_flip=False,  # 进行随机水平翻转\n",
    "        vertical_flip=False)  # 进行随机竖直翻转"
   ]
  },
  {
   "cell_type": "code",
   "execution_count": 13,
   "metadata": {
    "collapsed": true
   },
   "outputs": [],
   "source": [
    "datagen.fit(X_train)"
   ]
  },
  {
   "cell_type": "code",
   "execution_count": 14,
   "metadata": {
    "collapsed": false
   },
   "outputs": [
    {
     "name": "stdout",
     "output_type": "stream",
     "text": [
      "Epoch 1/30\n",
      " - 407s - loss: 0.3999 - acc: 0.8704 - val_loss: 0.0664 - val_acc: 0.9790\n",
      "Epoch 2/30\n",
      " - 376s - loss: 0.1329 - acc: 0.9599 - val_loss: 0.0506 - val_acc: 0.9843\n",
      "Epoch 3/30\n",
      " - 372s - loss: 0.0973 - acc: 0.9709 - val_loss: 0.0316 - val_acc: 0.9910\n",
      "Epoch 4/30\n",
      " - 377s - loss: 0.0818 - acc: 0.9758 - val_loss: 0.0410 - val_acc: 0.9881\n",
      "Epoch 5/30\n",
      " - 373s - loss: 0.0741 - acc: 0.9774 - val_loss: 0.0305 - val_acc: 0.9907\n",
      "Epoch 6/30\n",
      " - 372s - loss: 0.0674 - acc: 0.9804 - val_loss: 0.0209 - val_acc: 0.9943\n",
      "Epoch 7/30\n",
      " - 371s - loss: 0.0614 - acc: 0.9819 - val_loss: 0.0287 - val_acc: 0.9936\n",
      "Epoch 8/30\n",
      " - 375s - loss: 0.0581 - acc: 0.9824 - val_loss: 0.0191 - val_acc: 0.9945\n",
      "Epoch 9/30\n",
      " - 371s - loss: 0.0519 - acc: 0.9849 - val_loss: 0.0268 - val_acc: 0.9929\n",
      "Epoch 10/30\n",
      " - 370s - loss: 0.0527 - acc: 0.9846 - val_loss: 0.0226 - val_acc: 0.9945\n",
      "Epoch 11/30\n",
      " - 369s - loss: 0.0488 - acc: 0.9849 - val_loss: 0.0143 - val_acc: 0.9964\n",
      "Epoch 12/30\n",
      " - 370s - loss: 0.0482 - acc: 0.9855 - val_loss: 0.0206 - val_acc: 0.9948\n",
      "Epoch 13/30\n",
      " - 371s - loss: 0.0475 - acc: 0.9864 - val_loss: 0.0191 - val_acc: 0.9950\n",
      "Epoch 14/30\n",
      " - 370s - loss: 0.0404 - acc: 0.9876 - val_loss: 0.0177 - val_acc: 0.9960\n",
      "\n",
      "Epoch 00014: ReduceLROnPlateau reducing learning rate to 0.0005000000237487257.\n",
      "Epoch 15/30\n",
      " - 372s - loss: 0.0335 - acc: 0.9902 - val_loss: 0.0162 - val_acc: 0.9955\n",
      "Epoch 16/30\n",
      " - 373s - loss: 0.0277 - acc: 0.9916 - val_loss: 0.0149 - val_acc: 0.9962\n",
      "Epoch 17/30\n",
      " - 371s - loss: 0.0303 - acc: 0.9911 - val_loss: 0.0156 - val_acc: 0.9960\n",
      "\n",
      "Epoch 00017: ReduceLROnPlateau reducing learning rate to 0.0002500000118743628.\n",
      "Epoch 18/30\n",
      " - 368s - loss: 0.0270 - acc: 0.9923 - val_loss: 0.0155 - val_acc: 0.9960\n",
      "Epoch 19/30\n",
      " - 371s - loss: 0.0232 - acc: 0.9930 - val_loss: 0.0136 - val_acc: 0.9952\n",
      "Epoch 20/30\n",
      " - 371s - loss: 0.0247 - acc: 0.9925 - val_loss: 0.0178 - val_acc: 0.9957\n",
      "\n",
      "Epoch 00020: ReduceLROnPlateau reducing learning rate to 0.0001250000059371814.\n",
      "Epoch 21/30\n",
      " - 370s - loss: 0.0196 - acc: 0.9940 - val_loss: 0.0153 - val_acc: 0.9962\n",
      "Epoch 22/30\n",
      " - 368s - loss: 0.0193 - acc: 0.9939 - val_loss: 0.0166 - val_acc: 0.9955\n",
      "Epoch 23/30\n",
      " - 373s - loss: 0.0174 - acc: 0.9944 - val_loss: 0.0185 - val_acc: 0.9962\n",
      "\n",
      "Epoch 00023: ReduceLROnPlateau reducing learning rate to 6.25000029685907e-05.\n",
      "Epoch 24/30\n",
      " - 361s - loss: 0.0188 - acc: 0.9945 - val_loss: 0.0154 - val_acc: 0.9955\n",
      "Epoch 25/30\n",
      " - 383s - loss: 0.0192 - acc: 0.9940 - val_loss: 0.0153 - val_acc: 0.9962\n",
      "Epoch 26/30\n",
      " - 396s - loss: 0.0192 - acc: 0.9940 - val_loss: 0.0166 - val_acc: 0.9957\n",
      "\n",
      "Epoch 00026: ReduceLROnPlateau reducing learning rate to 3.125000148429535e-05.\n",
      "Epoch 27/30\n",
      " - 410s - loss: 0.0170 - acc: 0.9946 - val_loss: 0.0160 - val_acc: 0.9957\n",
      "Epoch 28/30\n",
      " - 406s - loss: 0.0174 - acc: 0.9947 - val_loss: 0.0164 - val_acc: 0.9955\n",
      "Epoch 29/30\n",
      " - 410s - loss: 0.0194 - acc: 0.9941 - val_loss: 0.0168 - val_acc: 0.9952\n",
      "\n",
      "Epoch 00029: ReduceLROnPlateau reducing learning rate to 1.5625000742147677e-05.\n",
      "Epoch 30/30\n",
      " - 405s - loss: 0.0164 - acc: 0.9950 - val_loss: 0.0165 - val_acc: 0.9950\n",
      "11357\n"
     ]
    }
   ],
   "source": [
    "import datetime\n",
    "starttime = datetime.datetime.now()\n",
    "\n",
    "history = model.fit_generator(datagen.flow(X_train,Y_train, batch_size=batch_size),\n",
    "                              epochs = epochs, validation_data = (X_val,Y_val),\n",
    "                              verbose = 2, steps_per_epoch=X_train.shape[0] // batch_size\n",
    "                              , callbacks=[learning_rate_reduction])\n",
    "\n",
    "endtime = datetime.datetime.now()\n",
    "\n",
    "print ((endtime - starttime).seconds)"
   ]
  },
  {
   "cell_type": "code",
<<<<<<< HEAD
   "execution_count": 1,
   "metadata": {
    "collapsed": false
   },
   "outputs": [
    {
     "ename": "NameError",
     "evalue": "name 'model' is not defined",
     "output_type": "error",
     "traceback": [
      "\u001b[0;31m---------------------------------------------------------------------------\u001b[0m",
      "\u001b[0;31mNameError\u001b[0m                                 Traceback (most recent call last)",
      "\u001b[0;32m<ipython-input-1-9659be6a62bc>\u001b[0m in \u001b[0;36m<module>\u001b[0;34m()\u001b[0m\n\u001b[0;32m----> 1\u001b[0;31m \u001b[0mresults\u001b[0m \u001b[1;33m=\u001b[0m \u001b[0mmodel\u001b[0m\u001b[1;33m.\u001b[0m\u001b[0mpredict\u001b[0m\u001b[1;33m(\u001b[0m\u001b[0mtest\u001b[0m\u001b[1;33m)\u001b[0m\u001b[1;33m\u001b[0m\u001b[0m\n\u001b[0m\u001b[1;32m      2\u001b[0m \u001b[0mprint\u001b[0m\u001b[1;33m(\u001b[0m\u001b[0mresult\u001b[0m\u001b[1;33m.\u001b[0m\u001b[0mshape\u001b[0m\u001b[1;33m)\u001b[0m\u001b[1;33m\u001b[0m\u001b[0m\n\u001b[1;32m      3\u001b[0m \u001b[0mresults\u001b[0m \u001b[1;33m=\u001b[0m \u001b[0mnp\u001b[0m\u001b[1;33m.\u001b[0m\u001b[0margmax\u001b[0m\u001b[1;33m(\u001b[0m\u001b[0mresults\u001b[0m\u001b[1;33m,\u001b[0m\u001b[0maxis\u001b[0m \u001b[1;33m=\u001b[0m \u001b[1;36m1\u001b[0m\u001b[1;33m)\u001b[0m\u001b[1;33m\u001b[0m\u001b[0m\n\u001b[1;32m      4\u001b[0m \u001b[1;33m\u001b[0m\u001b[0m\n\u001b[1;32m      5\u001b[0m \u001b[0mresults\u001b[0m \u001b[1;33m=\u001b[0m \u001b[0mpd\u001b[0m\u001b[1;33m.\u001b[0m\u001b[0mSeries\u001b[0m\u001b[1;33m(\u001b[0m\u001b[0mresults\u001b[0m\u001b[1;33m,\u001b[0m\u001b[0mname\u001b[0m\u001b[1;33m=\u001b[0m\u001b[1;34m\"Label\"\u001b[0m\u001b[1;33m)\u001b[0m\u001b[1;33m\u001b[0m\u001b[0m\n",
      "\u001b[0;31mNameError\u001b[0m: name 'model' is not defined"
     ]
    }
   ],
=======
   "execution_count": 15,
   "metadata": {
    "collapsed": true
   },
   "outputs": [],
>>>>>>> 07ac97e24fd95027a31bcdf2db00698753856683
   "source": [
    "results = model.predict(test)\n",
    "\n",
    "results = np.argmax(results,axis = 1)\n",
    "\n",
    "results = pd.Series(results,name=\"Label\")\n",
    "\n",
    "submission = pd.concat([pd.Series(range(1,28001),name = \"ImageId\"),results],axis = 1)\n",
    "\n",
    "submission.to_csv(\"../out/sklearn_keras_cnn.csv\",index=False)"
   ]
  },
  {
   "cell_type": "code",
   "execution_count": null,
   "metadata": {
    "collapsed": true
   },
   "outputs": [],
   "source": []
  }
 ],
 "metadata": {
  "kernelspec": {
   "display_name": "Python 3",
   "language": "python",
   "name": "python3"
  },
  "language_info": {
   "codemirror_mode": {
    "name": "ipython",
    "version": 3
   },
   "file_extension": ".py",
   "mimetype": "text/x-python",
   "name": "python",
   "nbconvert_exporter": "python",
   "pygments_lexer": "ipython3",
   "version": "3.6.0"
  }
 },
 "nbformat": 4,
 "nbformat_minor": 2
}
